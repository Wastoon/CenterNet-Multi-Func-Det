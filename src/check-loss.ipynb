{
 "cells": [
  {
   "cell_type": "code",
   "execution_count": 4,
   "metadata": {},
   "outputs": [],
   "source": [
    "from __future__ import absolute_import\n",
    "from __future__ import division\n",
    "from __future__ import print_function\n",
    "\n",
    "import torch\n",
    "import numpy as np\n",
    "import _init_paths\n",
    "\n",
    "from models.losses import FocalLoss\n",
    "from models.losses import RegL1Loss, RegLoss, NormRegL1Loss, RegWeightedL1Loss\n",
    "from models.decode import ctdet_decode\n",
    "from models.utils import _sigmoid\n",
    "from utils.debugger import Debugger\n",
    "from utils.post_process import ctdet_post_process\n",
    "from utils.oracle_utils import gen_oracle_map\n",
    "from trains.base_trainer import BaseTrainer\n"
   ]
  },
  {
   "cell_type": "code",
   "execution_count": null,
   "metadata": {},
   "outputs": [],
   "source": [
    "class CtdetLoss(torch.nn.Module):\n",
    "  def __init__(self, opt):\n",
    "    super(CtdetLoss, self).__init__()\n",
    "    self.crit = torch.nn.MSELoss() if opt.mse_loss else FocalLoss()\n",
    "    self.crit_reg = RegL1Loss() if opt.reg_loss == 'l1' else \\\n",
    "              RegLoss() if opt.reg_loss == 'sl1' else None\n",
    "    self.crit_wh = torch.nn.L1Loss(reduction='sum') if opt.dense_wh else \\\n",
    "              NormRegL1Loss() if opt.norm_wh else \\\n",
    "              RegWeightedL1Loss() if opt.cat_spec_wh else self.crit_reg\n",
    "    self.opt = opt\n",
    "\n",
    "  def forward(self, outputs, batch):\n",
    "    opt = self.opt\n",
    "    hm_loss, wh_loss, off_loss = 0, 0, 0\n",
    "    for s in range(opt.num_stacks):\n",
    "      output = outputs[s]\n",
    "      if not opt.mse_loss:\n",
    "        output['hm'] = _sigmoid(output['hm'])\n",
    "\n",
    "      if opt.eval_oracle_hm:\n",
    "        output['hm'] = batch['hm']\n",
    "      if opt.eval_oracle_wh:\n",
    "        output['wh'] = torch.from_numpy(gen_oracle_map(\n",
    "          batch['wh'].detach().cpu().numpy(), \n",
    "          batch['ind'].detach().cpu().numpy(), \n",
    "          output['wh'].shape[3], output['wh'].shape[2])).to(opt.device)\n",
    "      if opt.eval_oracle_offset:\n",
    "        output['reg'] = torch.from_numpy(gen_oracle_map(\n",
    "          batch['reg'].detach().cpu().numpy(), \n",
    "          batch['ind'].detach().cpu().numpy(), \n",
    "          output['reg'].shape[3], output['reg'].shape[2])).to(opt.device)\n",
    "\n",
    "      hm_loss += self.crit(output['hm'], batch['hm']) / opt.num_stacks\n",
    "      if opt.wh_weight > 0:\n",
    "        if opt.dense_wh:\n",
    "          mask_weight = batch['dense_wh_mask'].sum() + 1e-4\n",
    "          wh_loss += (\n",
    "            self.crit_wh(output['wh'] * batch['dense_wh_mask'],\n",
    "            batch['dense_wh'] * batch['dense_wh_mask']) / \n",
    "            mask_weight) / opt.num_stacks\n",
    "        elif opt.cat_spec_wh:\n",
    "          wh_loss += self.crit_wh(\n",
    "            output['wh'], batch['cat_spec_mask'],\n",
    "            batch['ind'], batch['cat_spec_wh']) / opt.num_stacks\n",
    "        else:\n",
    "          wh_loss += self.crit_reg(\n",
    "            output['wh'], batch['reg_mask'],\n",
    "            batch['ind'], batch['wh']) / opt.num_stacks\n",
    "      \n",
    "      if opt.reg_offset and opt.off_weight > 0:\n",
    "        off_loss += self.crit_reg(output['reg'], batch['reg_mask'],\n",
    "                             batch['ind'], batch['reg']) / opt.num_stacks\n",
    "        \n",
    "    loss = opt.hm_weight * hm_loss + opt.wh_weight * wh_loss + \\\n",
    "           opt.off_weight * off_loss\n",
    "    loss_stats = {'loss': loss, 'hm_loss': hm_loss,\n",
    "                  'wh_loss': wh_loss, 'off_loss': off_loss}\n",
    "    return loss, loss_stats"
   ]
  },
  {
   "cell_type": "code",
   "execution_count": null,
   "metadata": {},
   "outputs": [],
   "source": []
  },
  {
   "cell_type": "code",
   "execution_count": null,
   "metadata": {},
   "outputs": [],
   "source": [
    "class CtdetTrainer(BaseTrainer):\n",
    "  def __init__(self, opt, model, optimizer=None):\n",
    "    super(CtdetTrainer, self).__init__(opt, model, optimizer=optimizer)\n",
    "  \n",
    "  def _get_losses(self, opt):\n",
    "    loss_states = ['loss', 'hm_loss', 'wh_loss', 'off_loss']\n",
    "    loss = CtdetLoss(opt)\n",
    "    return loss_states, loss\n",
    "\n",
    "  def debug(self, batch, output, iter_id):\n",
    "    opt = self.opt\n",
    "    reg = output['reg'] if opt.reg_offset else None\n",
    "    dets = ctdet_decode(\n",
    "      output['hm'], output['wh'], reg=reg,\n",
    "      cat_spec_wh=opt.cat_spec_wh, K=opt.K)\n",
    "    dets = dets.detach().cpu().numpy().reshape(1, -1, dets.shape[2])\n",
    "    dets[:, :, :4] *= opt.down_ratio\n",
    "    dets_gt = batch['meta']['gt_det'].numpy().reshape(1, -1, dets.shape[2])\n",
    "    dets_gt[:, :, :4] *= opt.down_ratio\n",
    "    for i in range(1):\n",
    "      debugger = Debugger(\n",
    "        dataset=opt.dataset, ipynb=(opt.debug==3), theme=opt.debugger_theme)\n",
    "      img = batch['input'][i].detach().cpu().numpy().transpose(1, 2, 0)\n",
    "      img = np.clip(((\n",
    "        img * opt.std + opt.mean) * 255.), 0, 255).astype(np.uint8)\n",
    "      pred = debugger.gen_colormap(output['hm'][i].detach().cpu().numpy())\n",
    "      gt = debugger.gen_colormap(batch['hm'][i].detach().cpu().numpy())\n",
    "      debugger.add_blend_img(img, pred, 'pred_hm')\n",
    "      debugger.add_blend_img(img, gt, 'gt_hm')\n",
    "      debugger.add_img(img, img_id='out_pred')\n",
    "      for k in range(len(dets[i])):\n",
    "        if dets[i, k, 4] > opt.center_thresh:\n",
    "          debugger.add_coco_bbox(dets[i, k, :4], dets[i, k, -1],\n",
    "                                 dets[i, k, 4], img_id='out_pred')\n",
    "\n",
    "      debugger.add_img(img, img_id='out_gt')\n",
    "      for k in range(len(dets_gt[i])):\n",
    "        if dets_gt[i, k, 4] > opt.center_thresh:\n",
    "          debugger.add_coco_bbox(dets_gt[i, k, :4], dets_gt[i, k, -1],\n",
    "                                 dets_gt[i, k, 4], img_id='out_gt')\n",
    "\n",
    "      if opt.debug == 4:\n",
    "        debugger.save_all_imgs(opt.debug_dir, prefix='{}'.format(iter_id))\n",
    "      else:\n",
    "        debugger.show_all_imgs(pause=True)"
   ]
  },
  {
   "cell_type": "code",
   "execution_count": null,
   "metadata": {},
   "outputs": [],
   "source": []
  },
  {
   "cell_type": "code",
   "execution_count": null,
   "metadata": {},
   "outputs": [],
   "source": [
    "def save_result(self, output, batch, results):\n",
    "    reg = output['reg'] if self.opt.reg_offset else None\n",
    "    dets = ctdet_decode(\n",
    "      output['hm'], output['wh'], reg=reg,\n",
    "      cat_spec_wh=self.opt.cat_spec_wh, K=self.opt.K)\n",
    "    dets = dets.detach().cpu().numpy().reshape(1, -1, dets.shape[2])\n",
    "    dets_out = ctdet_post_process(\n",
    "      dets.copy(), batch['meta']['c'].cpu().numpy(),\n",
    "      batch['meta']['s'].cpu().numpy(),\n",
    "      output['hm'].shape[2], output['hm'].shape[3], output['hm'].shape[1])\n",
    "    results[batch['meta']['img_id'].cpu().numpy()[0]] = dets_out[0]"
   ]
  },
  {
   "cell_type": "code",
   "execution_count": null,
   "metadata": {},
   "outputs": [],
   "source": []
  },
  {
   "cell_type": "code",
   "execution_count": null,
   "metadata": {},
   "outputs": [],
   "source": []
  },
  {
   "cell_type": "code",
   "execution_count": null,
   "metadata": {},
   "outputs": [],
   "source": [
    "import torch"
   ]
  },
  {
   "cell_type": "code",
   "execution_count": 19,
   "metadata": {},
   "outputs": [
    {
     "data": {
      "text/plain": [
       "torch.Size([1, 10, 5, 5])"
      ]
     },
     "execution_count": 19,
     "metadata": {},
     "output_type": "execute_result"
    }
   ],
   "source": [
    "output = torch.arange(0,250).view(1,10,5,5)\n",
    "output.shape\n",
    "output."
   ]
  },
  {
   "cell_type": "code",
   "execution_count": 13,
   "metadata": {},
   "outputs": [
    {
     "data": {
      "text/plain": [
       "torch.Size([1, 4, 5])"
      ]
     },
     "execution_count": 13,
     "metadata": {},
     "output_type": "execute_result"
    }
   ],
   "source": [
    "ind = torch.arange(0,20).view(1,4,5)\n",
    "ind.shape"
   ]
  },
  {
   "cell_type": "code",
   "execution_count": 20,
   "metadata": {},
   "outputs": [
    {
     "data": {
      "text/plain": [
       "torch.Size([1, 5, 5, 10])"
      ]
     },
     "execution_count": 20,
     "metadata": {},
     "output_type": "execute_result"
    }
   ],
   "source": [
    "output = output.permute(0,2,3,1)\n",
    "output.shape"
   ]
  },
  {
   "cell_type": "code",
   "execution_count": 22,
   "metadata": {},
   "outputs": [
    {
     "data": {
      "text/plain": [
       "torch.Size([1, 25, 10])"
      ]
     },
     "execution_count": 22,
     "metadata": {},
     "output_type": "execute_result"
    }
   ],
   "source": [
    "output = output.view(1, -1, 10)\n",
    "output.shape"
   ]
  },
  {
   "cell_type": "code",
   "execution_count": 16,
   "metadata": {},
   "outputs": [
    {
     "data": {
      "text/plain": [
       "tensor([[[ 0,  1,  2,  3,  4],\n",
       "         [ 5,  6,  7,  8,  9],\n",
       "         [10, 11, 12, 13, 14],\n",
       "         [15, 16, 17, 18, 19]]])"
      ]
     },
     "execution_count": 16,
     "metadata": {},
     "output_type": "execute_result"
    }
   ],
   "source": [
    "ind"
   ]
  },
  {
   "cell_type": "code",
   "execution_count": 23,
   "metadata": {},
   "outputs": [
    {
     "data": {
      "text/plain": [
       "torch.Size([1, 4, 5, 1])"
      ]
     },
     "execution_count": 23,
     "metadata": {},
     "output_type": "execute_result"
    }
   ],
   "source": [
    "ind1 = ind.unsqueeze(3)\n",
    "ind1.shape"
   ]
  },
  {
   "cell_type": "code",
   "execution_count": 29,
   "metadata": {},
   "outputs": [
    {
     "data": {
      "text/plain": [
       "torch.Size([1, 4, 5, 2])"
      ]
     },
     "execution_count": 29,
     "metadata": {},
     "output_type": "execute_result"
    }
   ],
   "source": [
    "ind1 = ind1.expand(ind1.size(0),ind1.size(1),ind1.size(2),output.size(2)//ind1.size(2))\n",
    "ind1.shape"
   ]
  },
  {
   "cell_type": "code",
   "execution_count": 28,
   "metadata": {},
   "outputs": [
    {
     "data": {
      "text/plain": [
       "2"
      ]
     },
     "execution_count": 28,
     "metadata": {},
     "output_type": "execute_result"
    }
   ],
   "source": [
    "output.size(2)//ind1.size(2)"
   ]
  },
  {
   "cell_type": "code",
   "execution_count": 52,
   "metadata": {},
   "outputs": [
    {
     "data": {
      "text/plain": [
       "tensor([[ 0,  1,  2,  3,  4],\n",
       "        [ 5,  6,  7,  8,  9],\n",
       "        [10, 11, 12, 13, 14],\n",
       "        [15, 16, 17, 18, 19]])"
      ]
     },
     "execution_count": 52,
     "metadata": {},
     "output_type": "execute_result"
    }
   ],
   "source": [
    "org = torch.arange(0,20).view(1,4,5)\n",
    "org[0]"
   ]
  },
  {
   "cell_type": "code",
   "execution_count": 41,
   "metadata": {},
   "outputs": [
    {
     "data": {
      "text/plain": [
       "torch.Size([1, 4, 5, 2])"
      ]
     },
     "execution_count": 41,
     "metadata": {},
     "output_type": "execute_result"
    }
   ],
   "source": [
    "ind1.shape"
   ]
  },
  {
   "cell_type": "code",
   "execution_count": 49,
   "metadata": {},
   "outputs": [
    {
     "data": {
      "text/plain": [
       "tensor([[[ 0,  0,  1,  1,  2,  2,  3,  3,  4,  4],\n",
       "         [ 5,  5,  6,  6,  7,  7,  8,  8,  9,  9],\n",
       "         [10, 10, 11, 11, 12, 12, 13, 13, 14, 14],\n",
       "         [15, 15, 16, 16, 17, 17, 18, 18, 19, 19]]])"
      ]
     },
     "execution_count": 49,
     "metadata": {},
     "output_type": "execute_result"
    }
   ],
   "source": [
    "ind2 = ind1.clone()\n",
    "ind2 = ind2.view(1,4,-1)\n",
    "ind2"
   ]
  },
  {
   "cell_type": "code",
   "execution_count": 59,
   "metadata": {},
   "outputs": [
    {
     "data": {
      "text/plain": [
       "tensor([[[  0,  25,  51,  76, 102, 127, 153, 178, 204, 229],\n",
       "         [  5,  30,  56,  81, 107, 132, 158, 183, 209, 234],\n",
       "         [ 10,  35,  61,  86, 112, 137, 163, 188, 214, 239],\n",
       "         [ 15,  40,  66,  91, 117, 142, 168, 193, 219, 244]]])"
      ]
     },
     "execution_count": 59,
     "metadata": {},
     "output_type": "execute_result"
    }
   ],
   "source": [
    "new_out = output.gather(1, ind2)\n",
    "new_out.shape\n",
    "new_out"
   ]
  },
  {
   "cell_type": "code",
   "execution_count": 46,
   "metadata": {},
   "outputs": [
    {
     "data": {
      "text/plain": [
       "torch.Size([1, 4, 2, 5])"
      ]
     },
     "execution_count": 46,
     "metadata": {},
     "output_type": "execute_result"
    }
   ],
   "source": [
    "ind3 = ind1.clone()\n",
    "ind3 = ind3.permute(0,1,3,2)\n",
    "ind3.shape"
   ]
  },
  {
   "cell_type": "code",
   "execution_count": 50,
   "metadata": {},
   "outputs": [
    {
     "data": {
      "text/plain": [
       "tensor([[[ 0,  1,  2,  3,  4,  0,  1,  2,  3,  4],\n",
       "         [ 5,  6,  7,  8,  9,  5,  6,  7,  8,  9],\n",
       "         [10, 11, 12, 13, 14, 10, 11, 12, 13, 14],\n",
       "         [15, 16, 17, 18, 19, 15, 16, 17, 18, 19]]])"
      ]
     },
     "execution_count": 50,
     "metadata": {},
     "output_type": "execute_result"
    }
   ],
   "source": [
    "ind4 = ind3.clone()\n",
    "ind4 = ind4.view(1,4,-1)\n",
    "ind4"
   ]
  },
  {
   "cell_type": "code",
   "execution_count": 56,
   "metadata": {},
   "outputs": [
    {
     "data": {
      "text/plain": [
       "tensor([[[ 0,  1,  2,  3],\n",
       "         [ 4,  5,  6,  7],\n",
       "         [ 8,  9, 10, 11],\n",
       "         [12, 13, 14, 15]]])"
      ]
     },
     "execution_count": 56,
     "metadata": {},
     "output_type": "execute_result"
    }
   ],
   "source": [
    "img = torch.arange(0,16).view(1,4,4)\n",
    "img"
   ]
  },
  {
   "cell_type": "code",
   "execution_count": 57,
   "metadata": {},
   "outputs": [
    {
     "data": {
      "text/plain": [
       "tensor([[ 0,  1,  2,  3,  4,  5,  6,  7,  8,  9, 10, 11, 12, 13, 14, 15]])"
      ]
     },
     "execution_count": 57,
     "metadata": {},
     "output_type": "execute_result"
    }
   ],
   "source": [
    "new = img.clone()\n",
    "new = new.view(1,-1)\n",
    "new"
   ]
  },
  {
   "cell_type": "code",
   "execution_count": 64,
   "metadata": {},
   "outputs": [],
   "source": [
    "\n",
    "def _gather_feat(feat, ind, mask=None):\n",
    "    dim  = feat.size(2)\n",
    "    ind  = ind.unsqueeze(3).expand(ind.size(0), ind.size(1),ind.size(2), dim//ind.size(2)).contiguous().view(ind.size(0), ind.size(1), -1)\n",
    "    feat = feat.gather(1, ind)\n",
    "    if mask is not None:\n",
    "        mask = mask.unsqueeze(2).expand_as(feat)\n",
    "        feat = feat[mask]\n",
    "        feat = feat.view(-1, dim)\n",
    "    return feat"
   ]
  },
  {
   "cell_type": "code",
   "execution_count": 67,
   "metadata": {},
   "outputs": [
    {
     "data": {
      "text/plain": [
       "torch.Size([1, 4, 10])"
      ]
     },
     "execution_count": 67,
     "metadata": {},
     "output_type": "execute_result"
    }
   ],
   "source": [
    "outp = torch.arange(0,250).view(1, 10, 5,5)\n",
    "outp = outp.permute(0,2,3,1)\n",
    "feat = outp.view(1,-1,10)\n",
    "ind = torch.arange(0,20).view(1,4,5)\n",
    "_gather_feat(feat, ind, mask=None).shape"
   ]
  },
  {
   "cell_type": "code",
   "execution_count": 69,
   "metadata": {},
   "outputs": [
    {
     "data": {
      "text/plain": [
       "tensor([[[1., 1., 1., 1., 1.],\n",
       "         [1., 1., 1., 1., 1.],\n",
       "         [1., 1., 1., 1., 1.],\n",
       "         [1., 1., 1., 1., 1.]]])"
      ]
     },
     "execution_count": 69,
     "metadata": {},
     "output_type": "execute_result"
    }
   ],
   "source": [
    "mask = torch.ones((1, 4, 5))\n",
    "mask"
   ]
  },
  {
   "cell_type": "code",
   "execution_count": 75,
   "metadata": {},
   "outputs": [
    {
     "data": {
      "text/plain": [
       "torch.Size([1, 4, 10])"
      ]
     },
     "execution_count": 75,
     "metadata": {},
     "output_type": "execute_result"
    }
   ],
   "source": [
    "mask1 = mask.unsqueeze(3).expand(1,4,5,2).contiguous().view(1,4,-1)\n",
    "mask1 = mask.unsqueeze(3).expand(mask.size(0),mask.size(1),mask.size(2),2).contiguous().view(mask.size(0),mask.size(1),-1).float()\n",
    "mask1.shape"
   ]
  },
  {
   "cell_type": "code",
   "execution_count": 89,
   "metadata": {},
   "outputs": [
    {
     "data": {
      "text/plain": [
       "tensor([[ 15.,  15.],\n",
       "        [162., 162.]])"
      ]
     },
     "execution_count": 89,
     "metadata": {},
     "output_type": "execute_result"
    }
   ],
   "source": [
    "from torch.autograd import Variable\n",
    "\n",
    "x = Variable(3*torch.ones(2, 2), requires_grad = True)\n",
    "\n",
    "y1 = x[0] + 2\n",
    "\n",
    "y2 = x[1] *x[1]\n",
    "\n",
    "z1 = y1 * y1 * 3\n",
    "z2 = y2*y2*3\n",
    "\n",
    "out = (z2+z1).mean()\n",
    "\n",
    "# 现在我们来使用反向传播\n",
    "\n",
    "out.backward()\n",
    "\n",
    "# out.backward()和操作out.backward(torch.Tensor([1.0]))是等价的\n",
    "\n",
    "# 在此处输出 d(out)/dx\n",
    "\n",
    "x.grad\n"
   ]
  },
  {
   "cell_type": "code",
   "execution_count": 90,
   "metadata": {},
   "outputs": [
    {
     "data": {
      "text/plain": [
       "tensor([75., 75.], grad_fn=<MulBackward>)"
      ]
     },
     "execution_count": 90,
     "metadata": {},
     "output_type": "execute_result"
    }
   ],
   "source": [
    "z1"
   ]
  },
  {
   "cell_type": "code",
   "execution_count": 91,
   "metadata": {},
   "outputs": [
    {
     "data": {
      "text/plain": [
       "tensor([243., 243.], grad_fn=<MulBackward>)"
      ]
     },
     "execution_count": 91,
     "metadata": {},
     "output_type": "execute_result"
    }
   ],
   "source": [
    "z2"
   ]
  },
  {
   "cell_type": "code",
   "execution_count": 94,
   "metadata": {},
   "outputs": [
    {
     "name": "stdout",
     "output_type": "stream",
     "text": [
      "torch.Size([1, 4, 10])\n",
      "torch.Size([1, 4, 2])\n"
     ]
    }
   ],
   "source": [
    "pred = torch.ones((1, 4, 10))\n",
    "print(pred.shape)\n",
    "pred = pred[...,0:2]\n",
    "print(pred.shape)"
   ]
  },
  {
   "cell_type": "code",
   "execution_count": 96,
   "metadata": {},
   "outputs": [
    {
     "name": "stdout",
     "output_type": "stream",
     "text": [
      "10\n"
     ]
    }
   ],
   "source": [
    "t = 0\n",
    "for i in range(5):\n",
    "    t += 2\n",
    "print(t)"
   ]
  },
  {
   "cell_type": "code",
   "execution_count": 155,
   "metadata": {},
   "outputs": [
    {
     "name": "stdout",
     "output_type": "stream",
     "text": [
      "tensor([[[[  0,   1,   2,   3,   4],\n",
      "          [  5,   6,   7,   8,   9],\n",
      "          [ 10,  11,  12,  13,  14],\n",
      "          [ 15,  16,  17,  18,  19],\n",
      "          [ 20,  21,  22,  23,  24]],\n",
      "\n",
      "         [[ 25,  26,  27,  28,  29],\n",
      "          [ 30,  31,  32,  33,  34],\n",
      "          [ 35,  36,  37,  38,  39],\n",
      "          [ 40,  41,  42,  43,  44],\n",
      "          [ 45,  46,  47,  48,  49]],\n",
      "\n",
      "         [[ 50,  51,  52,  53,  54],\n",
      "          [ 55,  56,  57,  58,  59],\n",
      "          [ 60,  61,  62,  63,  64],\n",
      "          [ 65,  66,  67,  68,  69],\n",
      "          [ 70,  71,  72,  73,  74]],\n",
      "\n",
      "         [[ 75,  76,  77,  78,  79],\n",
      "          [ 80,  81,  82,  83,  84],\n",
      "          [ 85,  86,  87,  88,  89],\n",
      "          [ 90,  91,  92,  93,  94],\n",
      "          [ 95,  96,  97,  98,  99]],\n",
      "\n",
      "         [[100, 101, 102, 103, 104],\n",
      "          [105, 106, 107, 108, 109],\n",
      "          [110, 111, 112, 113, 114],\n",
      "          [115, 116, 117, 118, 119],\n",
      "          [120, 121, 122, 123, 124]],\n",
      "\n",
      "         [[125, 126, 127, 128, 129],\n",
      "          [130, 131, 132, 133, 134],\n",
      "          [135, 136, 137, 138, 139],\n",
      "          [140, 141, 142, 143, 144],\n",
      "          [145, 146, 147, 148, 149]],\n",
      "\n",
      "         [[150, 151, 152, 153, 154],\n",
      "          [155, 156, 157, 158, 159],\n",
      "          [160, 161, 162, 163, 164],\n",
      "          [165, 166, 167, 168, 169],\n",
      "          [170, 171, 172, 173, 174]],\n",
      "\n",
      "         [[175, 176, 177, 178, 179],\n",
      "          [180, 181, 182, 183, 184],\n",
      "          [185, 186, 187, 188, 189],\n",
      "          [190, 191, 192, 193, 194],\n",
      "          [195, 196, 197, 198, 199]],\n",
      "\n",
      "         [[200, 201, 202, 203, 204],\n",
      "          [205, 206, 207, 208, 209],\n",
      "          [210, 211, 212, 213, 214],\n",
      "          [215, 216, 217, 218, 219],\n",
      "          [220, 221, 222, 223, 224]],\n",
      "\n",
      "         [[225, 226, 227, 228, 229],\n",
      "          [230, 231, 232, 233, 234],\n",
      "          [235, 236, 237, 238, 239],\n",
      "          [240, 241, 242, 243, 244],\n",
      "          [245, 246, 247, 248, 249]],\n",
      "\n",
      "         [[250, 251, 252, 253, 254],\n",
      "          [255, 256, 257, 258, 259],\n",
      "          [260, 261, 262, 263, 264],\n",
      "          [265, 266, 267, 268, 269],\n",
      "          [270, 271, 272, 273, 274]],\n",
      "\n",
      "         [[275, 276, 277, 278, 279],\n",
      "          [280, 281, 282, 283, 284],\n",
      "          [285, 286, 287, 288, 289],\n",
      "          [290, 291, 292, 293, 294],\n",
      "          [295, 296, 297, 298, 299]]]])\n",
      "tensor([[[  0,   1,   2,   3,   4,   5,   6,   7,   8,   9,  10,  11,  12,  13,\n",
      "           14,  15,  16,  17,  18,  19,  20,  21,  22,  23,  24],\n",
      "         [ 25,  26,  27,  28,  29,  30,  31,  32,  33,  34,  35,  36,  37,  38,\n",
      "           39,  40,  41,  42,  43,  44,  45,  46,  47,  48,  49],\n",
      "         [ 50,  51,  52,  53,  54,  55,  56,  57,  58,  59,  60,  61,  62,  63,\n",
      "           64,  65,  66,  67,  68,  69,  70,  71,  72,  73,  74],\n",
      "         [ 75,  76,  77,  78,  79,  80,  81,  82,  83,  84,  85,  86,  87,  88,\n",
      "           89,  90,  91,  92,  93,  94,  95,  96,  97,  98,  99],\n",
      "         [100, 101, 102, 103, 104, 105, 106, 107, 108, 109, 110, 111, 112, 113,\n",
      "          114, 115, 116, 117, 118, 119, 120, 121, 122, 123, 124],\n",
      "         [125, 126, 127, 128, 129, 130, 131, 132, 133, 134, 135, 136, 137, 138,\n",
      "          139, 140, 141, 142, 143, 144, 145, 146, 147, 148, 149],\n",
      "         [150, 151, 152, 153, 154, 155, 156, 157, 158, 159, 160, 161, 162, 163,\n",
      "          164, 165, 166, 167, 168, 169, 170, 171, 172, 173, 174],\n",
      "         [175, 176, 177, 178, 179, 180, 181, 182, 183, 184, 185, 186, 187, 188,\n",
      "          189, 190, 191, 192, 193, 194, 195, 196, 197, 198, 199],\n",
      "         [200, 201, 202, 203, 204, 205, 206, 207, 208, 209, 210, 211, 212, 213,\n",
      "          214, 215, 216, 217, 218, 219, 220, 221, 222, 223, 224],\n",
      "         [225, 226, 227, 228, 229, 230, 231, 232, 233, 234, 235, 236, 237, 238,\n",
      "          239, 240, 241, 242, 243, 244, 245, 246, 247, 248, 249],\n",
      "         [250, 251, 252, 253, 254, 255, 256, 257, 258, 259, 260, 261, 262, 263,\n",
      "          264, 265, 266, 267, 268, 269, 270, 271, 272, 273, 274],\n",
      "         [275, 276, 277, 278, 279, 280, 281, 282, 283, 284, 285, 286, 287, 288,\n",
      "          289, 290, 291, 292, 293, 294, 295, 296, 297, 298, 299]]])\n",
      "tensor([[[ 24,  23,  22,  21,  20,  19,  18,  17,  16,  15],\n",
      "         [ 49,  48,  47,  46,  45,  44,  43,  42,  41,  40],\n",
      "         [ 74,  73,  72,  71,  70,  69,  68,  67,  66,  65],\n",
      "         [ 99,  98,  97,  96,  95,  94,  93,  92,  91,  90],\n",
      "         [124, 123, 122, 121, 120, 119, 118, 117, 116, 115],\n",
      "         [149, 148, 147, 146, 145, 144, 143, 142, 141, 140],\n",
      "         [174, 173, 172, 171, 170, 169, 168, 167, 166, 165],\n",
      "         [199, 198, 197, 196, 195, 194, 193, 192, 191, 190],\n",
      "         [224, 223, 222, 221, 220, 219, 218, 217, 216, 215],\n",
      "         [249, 248, 247, 246, 245, 244, 243, 242, 241, 240],\n",
      "         [274, 273, 272, 271, 270, 269, 268, 267, 266, 265],\n",
      "         [299, 298, 297, 296, 295, 294, 293, 292, 291, 290]]])\n",
      "tensor([[[24, 23, 22, 21, 20, 19, 18, 17, 16, 15],\n",
      "         [24, 23, 22, 21, 20, 19, 18, 17, 16, 15],\n",
      "         [24, 23, 22, 21, 20, 19, 18, 17, 16, 15],\n",
      "         [24, 23, 22, 21, 20, 19, 18, 17, 16, 15],\n",
      "         [24, 23, 22, 21, 20, 19, 18, 17, 16, 15],\n",
      "         [24, 23, 22, 21, 20, 19, 18, 17, 16, 15],\n",
      "         [24, 23, 22, 21, 20, 19, 18, 17, 16, 15],\n",
      "         [24, 23, 22, 21, 20, 19, 18, 17, 16, 15],\n",
      "         [24, 23, 22, 21, 20, 19, 18, 17, 16, 15],\n",
      "         [24, 23, 22, 21, 20, 19, 18, 17, 16, 15],\n",
      "         [24, 23, 22, 21, 20, 19, 18, 17, 16, 15],\n",
      "         [24, 23, 22, 21, 20, 19, 18, 17, 16, 15]]])\n"
     ]
    }
   ],
   "source": [
    "main_points_num=3\n",
    "cls_num = 4\n",
    "K = 10\n",
    "height,width = 5,5\n",
    "s = torch.arange(0,main_points_num*cls_num*25).view(1, main_points_num*cls_num, 5,5)\n",
    "print(s)\n",
    "s = s.contiguous().view(1, main_points_num*cls_num, 25)\n",
    "print(s)\n",
    "\n",
    "topk_scores, topk_inds = torch.topk(s.view(1, main_points_num*cls_num, -1), K)\n",
    "print(topk_scores)\n",
    "print(topk_inds)"
   ]
  },
  {
   "cell_type": "code",
   "execution_count": 135,
   "metadata": {},
   "outputs": [
    {
     "name": "stdout",
     "output_type": "stream",
     "text": [
      "tensor([[[[ 24,  23,  22,  21,  20,  19,  18,  17,  16,  15],\n",
      "          [ 49,  48,  47,  46,  45,  44,  43,  42,  41,  40],\n",
      "          [ 74,  73,  72,  71,  70,  69,  68,  67,  66,  65]],\n",
      "\n",
      "         [[ 99,  98,  97,  96,  95,  94,  93,  92,  91,  90],\n",
      "          [124, 123, 122, 121, 120, 119, 118, 117, 116, 115],\n",
      "          [149, 148, 147, 146, 145, 144, 143, 142, 141, 140]],\n",
      "\n",
      "         [[174, 173, 172, 171, 170, 169, 168, 167, 166, 165],\n",
      "          [199, 198, 197, 196, 195, 194, 193, 192, 191, 190],\n",
      "          [224, 223, 222, 221, 220, 219, 218, 217, 216, 215]],\n",
      "\n",
      "         [[249, 248, 247, 246, 245, 244, 243, 242, 241, 240],\n",
      "          [274, 273, 272, 271, 270, 269, 268, 267, 266, 265],\n",
      "          [299, 298, 297, 296, 295, 294, 293, 292, 291, 290]]]])\n",
      "tensor([[[ 24,  23,  22,  21,  20,  19,  18,  17,  16,  15,  99,  98,  97,  96,\n",
      "           95,  94,  93,  92,  91,  90, 174, 173, 172, 171, 170, 169, 168, 167,\n",
      "          166, 165, 249, 248, 247, 246, 245, 244, 243, 242, 241, 240],\n",
      "         [ 49,  48,  47,  46,  45,  44,  43,  42,  41,  40, 124, 123, 122, 121,\n",
      "          120, 119, 118, 117, 116, 115, 199, 198, 197, 196, 195, 194, 193, 192,\n",
      "          191, 190, 274, 273, 272, 271, 270, 269, 268, 267, 266, 265],\n",
      "         [ 74,  73,  72,  71,  70,  69,  68,  67,  66,  65, 149, 148, 147, 146,\n",
      "          145, 144, 143, 142, 141, 140, 224, 223, 222, 221, 220, 219, 218, 217,\n",
      "          216, 215, 299, 298, 297, 296, 295, 294, 293, 292, 291, 290]]])\n",
      "tensor([[[[24, 23, 22, 21, 20, 19, 18, 17, 16, 15],\n",
      "          [24, 23, 22, 21, 20, 19, 18, 17, 16, 15],\n",
      "          [24, 23, 22, 21, 20, 19, 18, 17, 16, 15]],\n",
      "\n",
      "         [[24, 23, 22, 21, 20, 19, 18, 17, 16, 15],\n",
      "          [24, 23, 22, 21, 20, 19, 18, 17, 16, 15],\n",
      "          [24, 23, 22, 21, 20, 19, 18, 17, 16, 15]],\n",
      "\n",
      "         [[24, 23, 22, 21, 20, 19, 18, 17, 16, 15],\n",
      "          [24, 23, 22, 21, 20, 19, 18, 17, 16, 15],\n",
      "          [24, 23, 22, 21, 20, 19, 18, 17, 16, 15]],\n",
      "\n",
      "         [[24, 23, 22, 21, 20, 19, 18, 17, 16, 15],\n",
      "          [24, 23, 22, 21, 20, 19, 18, 17, 16, 15],\n",
      "          [24, 23, 22, 21, 20, 19, 18, 17, 16, 15]]]])\n",
      "torch.Size([1, 3, 40])\n"
     ]
    }
   ],
   "source": [
    "topk_scoress = topk_scores.contiguous().view(1,cls_num, main_points_num, -1)\n",
    "print(topk_scoress)\n",
    "topk_scoress = topk_scoress.permute(0,2,1,3).contiguous().view(1,main_points_num,-1)\n",
    "print(topk_scoress)\n",
    "\n",
    "topk_indss = topk_inds.contiguous().view(1,cls_num, main_points_num, -1)\n",
    "print(topk_indss)\n",
    "topk_indss = topk_indss.permute(0,2,1,3).contiguous().view(1,main_points_num,-1)\n",
    "print(topk_indss.shape)"
   ]
  },
  {
   "cell_type": "code",
   "execution_count": 139,
   "metadata": {},
   "outputs": [
    {
     "name": "stdout",
     "output_type": "stream",
     "text": [
      "tensor([[[24, 23, 22, 21, 20, 19, 18, 17, 16, 15, 24, 23, 22, 21, 20, 19, 18,\n",
      "          17, 16, 15, 24, 23, 22, 21, 20, 19, 18, 17, 16, 15, 24, 23, 22, 21,\n",
      "          20, 19, 18, 17, 16, 15],\n",
      "         [24, 23, 22, 21, 20, 19, 18, 17, 16, 15, 24, 23, 22, 21, 20, 19, 18,\n",
      "          17, 16, 15, 24, 23, 22, 21, 20, 19, 18, 17, 16, 15, 24, 23, 22, 21,\n",
      "          20, 19, 18, 17, 16, 15],\n",
      "         [24, 23, 22, 21, 20, 19, 18, 17, 16, 15, 24, 23, 22, 21, 20, 19, 18,\n",
      "          17, 16, 15, 24, 23, 22, 21, 20, 19, 18, 17, 16, 15, 24, 23, 22, 21,\n",
      "          20, 19, 18, 17, 16, 15]]])\n",
      "torch.Size([1, 3, 40]) torch.Size([1, 3, 40]) torch.Size([1, 3, 40])\n"
     ]
    }
   ],
   "source": [
    "topk_indss = topk_indss % (height * width)\n",
    "topk_ys   = (topk_indss / width).int().float()\n",
    "topk_xs   = (topk_indss % width).int().float()\n",
    "print(topk_indss)\n",
    "print(topk_indss.shape, topk_ys.shape, topk_xs.shape)"
   ]
  },
  {
   "cell_type": "code",
   "execution_count": null,
   "metadata": {},
   "outputs": [],
   "source": []
  },
  {
   "cell_type": "code",
   "execution_count": 141,
   "metadata": {},
   "outputs": [
    {
     "name": "stdout",
     "output_type": "stream",
     "text": [
      "tensor([[[249, 248, 247, 246, 245, 244, 243, 242, 241, 240],\n",
      "         [274, 273, 272, 271, 270, 269, 268, 267, 266, 265],\n",
      "         [299, 298, 297, 296, 295, 294, 293, 292, 291, 290]]])\n",
      "tensor([[[30, 31, 32, 33, 34, 35, 36, 37, 38, 39],\n",
      "         [30, 31, 32, 33, 34, 35, 36, 37, 38, 39],\n",
      "         [30, 31, 32, 33, 34, 35, 36, 37, 38, 39]]])\n",
      "torch.Size([1, 3, 10])\n",
      "torch.Size([1, 3, 10])\n"
     ]
    }
   ],
   "source": [
    "topk_score, topk_ind = torch.topk(topk_scoress, K)\n",
    "print(topk_score)\n",
    "print(topk_ind)\n",
    "print(topk_score.shape)\n",
    "print(topk_ind.shape)"
   ]
  },
  {
   "cell_type": "code",
   "execution_count": 142,
   "metadata": {},
   "outputs": [
    {
     "name": "stdout",
     "output_type": "stream",
     "text": [
      "tensor([[[3, 3, 3, 3, 3, 3, 3, 3, 3, 3],\n",
      "         [3, 3, 3, 3, 3, 3, 3, 3, 3, 3],\n",
      "         [3, 3, 3, 3, 3, 3, 3, 3, 3, 3]]], dtype=torch.int32)\n",
      "torch.Size([1, 3, 10])\n"
     ]
    }
   ],
   "source": [
    "topk_clses = (topk_ind / K).int()\n",
    "print(topk_clses)\n",
    "print(topk_clses.shape)"
   ]
  },
  {
   "cell_type": "code",
   "execution_count": 165,
   "metadata": {},
   "outputs": [
    {
     "name": "stdout",
     "output_type": "stream",
     "text": [
      "topk_indsssf torch.Size([1, 10, 3])\n",
      "topk_ysssf tensor([[[4., 4., 4.],\n",
      "         [4., 4., 4.],\n",
      "         [4., 4., 4.],\n",
      "         [4., 4., 4.],\n",
      "         [4., 4., 4.],\n",
      "         [3., 3., 3.],\n",
      "         [3., 3., 3.],\n",
      "         [3., 3., 3.],\n",
      "         [3., 3., 3.],\n",
      "         [3., 3., 3.]]])\n",
      "topk_xsssf tensor([[[4., 4., 4.],\n",
      "         [3., 3., 3.],\n",
      "         [2., 2., 2.],\n",
      "         [1., 1., 1.],\n",
      "         [0., 0., 0.],\n",
      "         [4., 4., 4.],\n",
      "         [3., 3., 3.],\n",
      "         [2., 2., 2.],\n",
      "         [1., 1., 1.],\n",
      "         [0., 0., 0.]]])\n"
     ]
    }
   ],
   "source": [
    "topk_indff = topk_indss.permute(0, 2,1)\n",
    "topk_indf = topk_ind.permute(0,2,1)\n",
    "topk_indsssf = topk_indff.gather(1, topk_indf)\n",
    "print('topk_indsssf',topk_indsssf.shape)\n",
    "topk_ysf =  topk_ys.permute(0, 2,1)\n",
    "topk_xsf =  topk_xs.permute(0, 2,1)\n",
    "topk_ysssf = topk_ysf.gather(1, topk_indf)\n",
    "print('topk_ysssf',topk_ysssf)\n",
    "topk_xsssf = topk_xsf.gather(1, topk_indf)\n",
    "print('topk_xsssf',topk_xsssf)"
   ]
  },
  {
   "cell_type": "code",
   "execution_count": 148,
   "metadata": {},
   "outputs": [
    {
     "ename": "RuntimeError",
     "evalue": "Expected tensor [1 x 3 x 10], src [1 x 3 x 40] and index [1 x 3 x 10] to have the same size apart from dimension 1 at /opt/conda/conda-bld/pytorch_1535491974311/work/aten/src/TH/generic/THTensorMath.cpp:620",
     "output_type": "error",
     "traceback": [
      "\u001b[0;31m---------------------------------------------------------------------------\u001b[0m",
      "\u001b[0;31mRuntimeError\u001b[0m                              Traceback (most recent call last)",
      "\u001b[0;32m<ipython-input-148-85e52511c0f1>\u001b[0m in \u001b[0;36m<module>\u001b[0;34m\u001b[0m\n\u001b[1;32m      1\u001b[0m \u001b[0mw\u001b[0m \u001b[0;34m=\u001b[0m \u001b[0mtorch\u001b[0m\u001b[0;34m.\u001b[0m\u001b[0marange\u001b[0m\u001b[0;34m(\u001b[0m\u001b[0;36m0\u001b[0m\u001b[0;34m,\u001b[0m\u001b[0;36m120\u001b[0m\u001b[0;34m)\u001b[0m\u001b[0;34m.\u001b[0m\u001b[0mview\u001b[0m\u001b[0;34m(\u001b[0m\u001b[0;36m1\u001b[0m\u001b[0;34m,\u001b[0m\u001b[0;36m3\u001b[0m\u001b[0;34m,\u001b[0m\u001b[0;36m40\u001b[0m\u001b[0;34m)\u001b[0m\u001b[0;34m\u001b[0m\u001b[0;34m\u001b[0m\u001b[0m\n\u001b[1;32m      2\u001b[0m \u001b[0me\u001b[0m \u001b[0;34m=\u001b[0m \u001b[0mtorch\u001b[0m\u001b[0;34m.\u001b[0m\u001b[0marange\u001b[0m\u001b[0;34m(\u001b[0m\u001b[0;36m10\u001b[0m\u001b[0;34m,\u001b[0m\u001b[0;36m40\u001b[0m\u001b[0;34m)\u001b[0m\u001b[0;34m.\u001b[0m\u001b[0mview\u001b[0m\u001b[0;34m(\u001b[0m\u001b[0;36m1\u001b[0m\u001b[0;34m,\u001b[0m\u001b[0;36m3\u001b[0m\u001b[0;34m,\u001b[0m\u001b[0;36m10\u001b[0m\u001b[0;34m)\u001b[0m\u001b[0;34m\u001b[0m\u001b[0;34m\u001b[0m\u001b[0m\n\u001b[0;32m----> 3\u001b[0;31m \u001b[0mw\u001b[0m\u001b[0;34m.\u001b[0m\u001b[0mgather\u001b[0m\u001b[0;34m(\u001b[0m\u001b[0;36m1\u001b[0m\u001b[0;34m,\u001b[0m\u001b[0me\u001b[0m\u001b[0;34m)\u001b[0m\u001b[0;34m\u001b[0m\u001b[0;34m\u001b[0m\u001b[0m\n\u001b[0m",
      "\u001b[0;31mRuntimeError\u001b[0m: Expected tensor [1 x 3 x 10], src [1 x 3 x 40] and index [1 x 3 x 10] to have the same size apart from dimension 1 at /opt/conda/conda-bld/pytorch_1535491974311/work/aten/src/TH/generic/THTensorMath.cpp:620"
     ]
    }
   ],
   "source": []
  },
  {
   "cell_type": "code",
   "execution_count": 160,
   "metadata": {},
   "outputs": [],
   "source": [
    "def _topk_gridneighbor(scores, main_points_num, K=40):\n",
    "    batch, allchannels, height, width = scores.size()\n",
    "    cat = allchannels//main_points_num \n",
    "    \n",
    "    topk_scores, topk_inds = torch.topk(s.view(1, allchannels, -1), K)\n",
    "    print(topk_scores)\n",
    "    print(topk_inds)\n",
    "    \n",
    "    topk_scoress = topk_scores.contiguous().view(1,cat, main_points_num, -1)\n",
    "    print(topk_scoress)\n",
    "    topk_scoress = topk_scoress.permute(0,2,1,3).contiguous().view(1,main_points_num,-1)\n",
    "    print(topk_scoress)\n",
    "\n",
    "    topk_indss = topk_inds.contiguous().view(1,cat, main_points_num, -1)\n",
    "    print(topk_indss)\n",
    "    topk_indss = topk_indss.permute(0,2,1,3).contiguous().view(1,main_points_num,-1)\n",
    "    print(topk_indss.shape)\n",
    "    \n",
    "    topk_indss = topk_indss % (height * width)\n",
    "    topk_ys   = (topk_indss / width).int().float()\n",
    "    topk_xs   = (topk_indss % width).int().float()\n",
    "    print(topk_indss)\n",
    "    print(topk_indss.shape, topk_ys.shape, topk_xs.shape)\n",
    "    \n",
    "    topk_score, topk_ind = torch.topk(topk_scoress, K)\n",
    "    print(topk_score)\n",
    "    print(topk_ind)\n",
    "    print(topk_score.shape)\n",
    "    print(topk_ind.shape)\n",
    "    \n",
    "    topk_clses = (topk_ind / K).int()\n",
    "    print(topk_clses)\n",
    "    print(topk_clses.shape)\n",
    "    \n",
    "    topk_indff = topk_indss.permute(0, 2,1)\n",
    "    topk_indf = topk_ind.permute(0,2,1)\n",
    "    topk_indsssf = topk_indff.gather(1, topk_indf)\n",
    "    print('topk_indsssf',topk_indsssf)\n",
    "    topk_ysf =  topk_ys.permute(0, 2,1)\n",
    "    topk_xsf =  topk_xs.permute(0, 2,1)\n",
    "    topk_ysssf = topk_ysf.gather(1, topk_indf)\n",
    "    print('topk_ysssf',topk_ysssf)\n",
    "    topk_xsssf = topk_xsf.gather(1, topk_indf)\n",
    "    print('topk_xsssf',topk_xsssf)"
   ]
  },
  {
   "cell_type": "code",
   "execution_count": 200,
   "metadata": {},
   "outputs": [],
   "source": [
    "def _topk_gridneighbor(scores, main_points_num, K=40):\n",
    "    batch, allchannels, height, width = scores.size()\n",
    "    cat = allchannels//main_points_num \n",
    "    \n",
    "    topk_scores, topk_inds = torch.topk(s.view(1, allchannels, -1), K)\n",
    "\n",
    "    \n",
    "    topk_scores = topk_scores.contiguous().view(1,cat, main_points_num, -1)\n",
    "\n",
    "    topk_scores = topk_scores.permute(0,2,1,3).contiguous().view(1,main_points_num,-1)\n",
    "\n",
    "\n",
    "    topk_inds = topk_inds.contiguous().view(1,cat, main_points_num, -1)\n",
    "\n",
    "    topk_inds = topk_inds.permute(0,2,1,3).contiguous().view(1,main_points_num,-1)\n",
    "    \n",
    "    topk_inds = topk_inds % (height * width)\n",
    "    topk_ys   = (topk_inds / width).int().float()\n",
    "    topk_xs   = (topk_inds % width).int().float()\n",
    "    \n",
    "    topk_score, topk_ind = torch.topk(topk_scores, K)\n",
    "    \n",
    "    topk_clses = (topk_ind / K).int().permute(0,2,1)\n",
    "    \n",
    "    topk_inds = topk_inds.permute(0, 2,1)\n",
    "    topk_ind = topk_ind.permute(0,2,1)\n",
    "    topk_inds = topk_inds.gather(1, topk_ind)\n",
    "    topk_ys =  topk_ys.permute(0, 2,1)\n",
    "    topk_xs =  topk_xs.permute(0, 2,1)\n",
    "    topk_ys = topk_ys.gather(1, topk_ind)\n",
    "    topk_xs = topk_xs.gather(1, topk_ind)\n",
    "    print('topk_ys',topk_ys)\n",
    "    print('topk_xs',topk_xs)\n",
    "    print('topk_score',topk_score.permute(0,2,1))\n",
    "    print('topk_inds',topk_inds)\n",
    "    print('topk_clses',topk_clses)"
   ]
  },
  {
   "cell_type": "code",
   "execution_count": 201,
   "metadata": {},
   "outputs": [
    {
     "name": "stdout",
     "output_type": "stream",
     "text": [
      "topk_ys tensor([[[4., 4., 4.],\n",
      "         [4., 4., 4.],\n",
      "         [4., 4., 4.],\n",
      "         [4., 4., 4.],\n",
      "         [4., 4., 4.],\n",
      "         [3., 3., 3.],\n",
      "         [3., 3., 3.],\n",
      "         [3., 3., 3.],\n",
      "         [3., 3., 3.],\n",
      "         [3., 3., 3.]]])\n",
      "topk_xs tensor([[[4., 4., 4.],\n",
      "         [3., 3., 3.],\n",
      "         [2., 2., 2.],\n",
      "         [1., 1., 1.],\n",
      "         [0., 0., 0.],\n",
      "         [4., 4., 4.],\n",
      "         [3., 3., 3.],\n",
      "         [2., 2., 2.],\n",
      "         [1., 1., 1.],\n",
      "         [0., 0., 0.]]])\n",
      "topk_score tensor([[[249, 274, 299],\n",
      "         [248, 273, 298],\n",
      "         [247, 272, 297],\n",
      "         [246, 271, 296],\n",
      "         [245, 270, 295],\n",
      "         [244, 269, 294],\n",
      "         [243, 268, 293],\n",
      "         [242, 267, 292],\n",
      "         [241, 266, 291],\n",
      "         [240, 265, 290]]])\n",
      "topk_inds tensor([[[24, 24, 24],\n",
      "         [23, 23, 23],\n",
      "         [22, 22, 22],\n",
      "         [21, 21, 21],\n",
      "         [20, 20, 20],\n",
      "         [19, 19, 19],\n",
      "         [18, 18, 18],\n",
      "         [17, 17, 17],\n",
      "         [16, 16, 16],\n",
      "         [15, 15, 15]]])\n",
      "topk_clses tensor([[[3, 3, 3],\n",
      "         [3, 3, 3],\n",
      "         [3, 3, 3],\n",
      "         [3, 3, 3],\n",
      "         [3, 3, 3],\n",
      "         [3, 3, 3],\n",
      "         [3, 3, 3],\n",
      "         [3, 3, 3],\n",
      "         [3, 3, 3],\n",
      "         [3, 3, 3]]], dtype=torch.int32)\n"
     ]
    }
   ],
   "source": [
    "scores = torch.arange(0,300).view(1, 12, 5,5)\n",
    "main_points_num = 3\n",
    "_topk_gridneighbor(scores, main_points_num, K=10)"
   ]
  },
  {
   "cell_type": "code",
   "execution_count": 202,
   "metadata": {},
   "outputs": [
    {
     "name": "stdout",
     "output_type": "stream",
     "text": [
      "tensor([[[ 0,  1,  2,  3,  4,  5],\n",
      "         [ 6,  7,  8,  9, 10, 11],\n",
      "         [12, 13, 14, 15, 16, 17],\n",
      "         [18, 19, 20, 21, 22, 23],\n",
      "         [24, 25, 26, 27, 28, 29],\n",
      "         [30, 31, 32, 33, 34, 35],\n",
      "         [36, 37, 38, 39, 40, 41],\n",
      "         [42, 43, 44, 45, 46, 47],\n",
      "         [48, 49, 50, 51, 52, 53],\n",
      "         [54, 55, 56, 57, 58, 59]]])\n",
      "tensor([[[ 0,  1,  2],\n",
      "         [ 3,  4,  5],\n",
      "         [ 6,  7,  8],\n",
      "         [ 9, 10, 11],\n",
      "         [12, 13, 14],\n",
      "         [15, 16, 17],\n",
      "         [18, 19, 20],\n",
      "         [21, 22, 23],\n",
      "         [24, 25, 26],\n",
      "         [27, 28, 29]]])\n"
     ]
    }
   ],
   "source": [
    "reg = torch.arange(0,60).view(1, 10, 6)\n",
    "ys = torch.arange(0,30).view(1, 10, 3)\n",
    "print(reg)\n",
    "print(ys)"
   ]
  },
  {
   "cell_type": "code",
   "execution_count": 185,
   "metadata": {},
   "outputs": [
    {
     "data": {
      "text/plain": [
       "tensor([[[ 1,  4,  7],\n",
       "         [10, 13, 16],\n",
       "         [19, 22, 25],\n",
       "         [28, 31, 34],\n",
       "         [37, 40, 43],\n",
       "         [46, 49, 52],\n",
       "         [55, 58, 61],\n",
       "         [64, 67, 70],\n",
       "         [73, 76, 79],\n",
       "         [82, 85, 88]]])"
      ]
     },
     "execution_count": 185,
     "metadata": {},
     "output_type": "execute_result"
    }
   ],
   "source": [
    "for i in range(main_points_num):\n",
    "    ys[...,i] = ys[...,i] + reg[:,:, 2*i+1]\n",
    "ys"
   ]
  },
  {
   "cell_type": "code",
   "execution_count": 182,
   "metadata": {},
   "outputs": [
    {
     "data": {
      "text/plain": [
       "tensor([[[  0,   5,  10],\n",
       "         [ 15,  20,  25],\n",
       "         [ 30,  35,  40],\n",
       "         [ 45,  50,  55],\n",
       "         [ 60,  65,  70],\n",
       "         [ 75,  80,  85],\n",
       "         [ 90,  95, 100],\n",
       "         [105, 110, 115],\n",
       "         [120, 125, 130],\n",
       "         [135, 140, 145]]])"
      ]
     },
     "execution_count": 182,
     "metadata": {},
     "output_type": "execute_result"
    }
   ],
   "source": [
    "for i in range(3):\n",
    "    xs[...,i] = xs[...,i] + reg[:,:, 2*i]\n",
    "xs"
   ]
  },
  {
   "cell_type": "code",
   "execution_count": 223,
   "metadata": {},
   "outputs": [],
   "source": [
    "a = xs[...,1].unsqueeze(2)\n",
    "b = xs[...,2].unsqueeze(2)\n",
    "wh = torch.cat([reg,reg,reg,reg],dim=2)\n",
    "xs = torch.cat([xs,a],dim=2)\n",
    "ys = torch.cat([ys,b],dim=2)\n",
    "point_flags = [2,4,6,8]"
   ]
  },
  {
   "cell_type": "code",
   "execution_count": 222,
   "metadata": {},
   "outputs": [
    {
     "data": {
      "text/plain": [
       "tensor([[[  5,  10,   5,  10,   5,  10,   5,  10],\n",
       "         [ 20,  25,  20,  25,  20,  25,  20,  25],\n",
       "         [ 35,  40,  35,  40,  35,  40,  35,  40],\n",
       "         [ 50,  55,  50,  55,  50,  55,  50,  55],\n",
       "         [ 65,  70,  65,  70,  65,  70,  65,  70],\n",
       "         [ 80,  85,  80,  85,  80,  85,  80,  85],\n",
       "         [ 95, 100,  95, 100,  95, 100,  95, 100],\n",
       "         [110, 115, 110, 115, 110, 115, 110, 115],\n",
       "         [125, 130, 125, 130, 125, 130, 125, 130],\n",
       "         [140, 145, 140, 145, 140, 145, 140, 145]]])"
      ]
     },
     "execution_count": 222,
     "metadata": {},
     "output_type": "execute_result"
    }
   ],
   "source": [
    "c\n",
    "r = []\n",
    "r.append(c)\n",
    "r.append(c)\n",
    "torch.cat(r, dim=2)"
   ]
  },
  {
   "cell_type": "code",
   "execution_count": 227,
   "metadata": {},
   "outputs": [],
   "source": [
    "def bbox_decode(xs, ys, wh, point_flags):\n",
    "    all_mainpoint_bboxes = []\n",
    "    for idx, point in enumerate(point_flags):\n",
    "        xs_i = xs[..., idx]\n",
    "        ys_i = ys[..., idx]\n",
    "        \n",
    "        w_i = wh[..., 2*idx]\n",
    "        h_i = wh[..., 2*idx+1]\n",
    "        \n",
    "        row = point // 3\n",
    "        col = point % 3\n",
    "        \n",
    "        x1 = (xs_i - w_i).unsqueeze(2)\n",
    "        y1 = (ys_i - h_i).unsqueeze(2)\n",
    "        x2 = (xs_i + w_i*(3**(1-col))).unsqueeze(2)\n",
    "        y2 = (ys_i + h_i*(3**(1-row))).unsqueeze(2)\n",
    "        each_mainpoint_bboxes = torch.cat([x1, y1, x2, y2], dim=2)\n",
    "        all_mainpoint_bboxes.append(each_mainpoint_bboxes)\n",
    "    return torch.cat(all_mainpoint_bboxes, dim=2)"
   ]
  },
  {
   "cell_type": "code",
   "execution_count": 235,
   "metadata": {},
   "outputs": [
    {
     "data": {
      "text/plain": [
       "torch.Size([1, 10])"
      ]
     },
     "execution_count": 235,
     "metadata": {},
     "output_type": "execute_result"
    }
   ],
   "source": [
    "bbox_decode(xs, ys, wh, point_flags)[:,:,4].shape"
   ]
  },
  {
   "cell_type": "code",
   "execution_count": 230,
   "metadata": {},
   "outputs": [
    {
     "name": "stdout",
     "output_type": "stream",
     "text": [
      "5\n",
      "4\n",
      "3\n"
     ]
    }
   ],
   "source": []
  },
  {
   "cell_type": "code",
   "execution_count": null,
   "metadata": {},
   "outputs": [],
   "source": [
    "\n"
   ]
  },
  {
   "cell_type": "code",
   "execution_count": 1,
   "metadata": {},
   "outputs": [],
   "source": [
    "color_list = np.array(\n",
    "    [\n",
    "        1.000, 1.000, 1.000,\n",
    "        0.850, 0.325, 0.098,\n",
    "        0.929, 0.694, 0.125,\n",
    "        0.494, 0.184, 0.556,\n",
    "        0.466, 0.674, 0.188,\n",
    "        0.301, 0.745, 0.933,\n",
    "        0.635, 0.078, 0.184,\n",
    "        0.300, 0.300, 0.300,\n",
    "        0.600, 0.600, 0.600,\n",
    "        1.000, 0.000, 0.000,\n",
    "        1.000, 0.500, 0.000,\n",
    "        0.749, 0.749, 0.000,\n",
    "        0.000, 1.000, 0.000,\n",
    "        0.000, 0.000, 1.000,\n",
    "        0.667, 0.000, 1.000,\n",
    "        0.333, 0.333, 0.000,\n",
    "        0.333, 0.667, 0.000,\n",
    "        0.333, 1.000, 0.000,\n",
    "        0.667, 0.333, 0.000,\n",
    "        0.667, 0.667, 0.000,\n",
    "        0.667, 1.000, 0.000,\n",
    "        1.000, 0.333, 0.000,\n",
    "        1.000, 0.667, 0.000,\n",
    "        1.000, 1.000, 0.000,\n",
    "        0.000, 0.333, 0.500,\n",
    "        0.000, 0.667, 0.500,\n",
    "        0.000, 1.000, 0.500,\n",
    "        0.333, 0.000, 0.500,\n",
    "        0.333, 0.333, 0.500,\n",
    "        0.333, 0.667, 0.500,\n",
    "        0.333, 1.000, 0.500,\n",
    "        0.667, 0.000, 0.500,\n",
    "        0.667, 0.333, 0.500,\n",
    "        0.667, 0.667, 0.500,\n",
    "        0.667, 1.000, 0.500,\n",
    "        1.000, 0.000, 0.500,\n",
    "        1.000, 0.333, 0.500,\n",
    "        1.000, 0.667, 0.500,\n",
    "        1.000, 1.000, 0.500,\n",
    "        0.000, 0.333, 1.000,\n",
    "        0.000, 0.667, 1.000,\n",
    "        0.000, 1.000, 1.000,\n",
    "        0.333, 0.000, 1.000,\n",
    "        0.333, 0.333, 1.000,\n",
    "        0.333, 0.667, 1.000,\n",
    "        0.333, 1.000, 1.000,\n",
    "        0.667, 0.000, 1.000,\n",
    "        0.667, 0.333, 1.000,\n",
    "        0.667, 0.667, 1.000,\n",
    "        0.667, 1.000, 1.000,\n",
    "        1.000, 0.000, 1.000,\n",
    "        1.000, 0.333, 1.000,\n",
    "        1.000, 0.667, 1.000,\n",
    "        0.167, 0.000, 0.000,\n",
    "        0.333, 0.000, 0.000,\n",
    "        0.500, 0.000, 0.000,\n",
    "        0.667, 0.000, 0.000,\n",
    "        0.833, 0.000, 0.000,\n",
    "        1.000, 0.000, 0.000,\n",
    "        0.000, 0.167, 0.000,\n",
    "        0.000, 0.333, 0.000,\n",
    "        0.000, 0.500, 0.000,\n",
    "        0.000, 0.667, 0.000,\n",
    "        0.000, 0.833, 0.000,\n",
    "        0.000, 1.000, 0.000,\n",
    "        0.000, 0.000, 0.167,\n",
    "        0.000, 0.000, 0.333,\n",
    "        0.000, 0.000, 0.500,\n",
    "        0.000, 0.000, 0.667,\n",
    "        0.000, 0.000, 0.833,\n",
    "        0.000, 0.000, 1.000,\n",
    "        0.000, 0.000, 0.000,\n",
    "        0.143, 0.143, 0.143,\n",
    "        0.286, 0.286, 0.286,\n",
    "        0.429, 0.429, 0.429,\n",
    "        0.571, 0.571, 0.571,\n",
    "        0.714, 0.714, 0.714,\n",
    "        0.857, 0.857, 0.857,\n",
    "        0.000, 0.447, 0.741,\n",
    "        0.50, 0.5, 0\n",
    "    ]\n",
    ").astype(np.float32)\n",
    "color_list = color_list.reshape((-1, 3)) * 255"
   ]
  },
  {
   "cell_type": "code",
   "execution_count": 2,
   "metadata": {},
   "outputs": [],
   "source": [
    "colors = [(color_list[_]).astype(np.uint8) \\\n",
    "                  for _ in range(len(color_list))]"
   ]
  },
  {
   "cell_type": "code",
   "execution_count": 11,
   "metadata": {},
   "outputs": [],
   "source": [
    "colors = [(color_list[_]).astype(np.uint8) \\\n",
    "                  for _ in range(len(color_list))]*5"
   ]
  },
  {
   "cell_type": "code",
   "execution_count": 12,
   "metadata": {},
   "outputs": [
    {
     "data": {
      "text/plain": [
       "400"
      ]
     },
     "execution_count": 12,
     "metadata": {},
     "output_type": "execute_result"
    }
   ],
   "source": [
    "len(colors)"
   ]
  },
  {
   "cell_type": "code",
   "execution_count": 13,
   "metadata": {},
   "outputs": [],
   "source": [
    "olors = np.array(colors, dtype=np.uint8).reshape(len(colors), 1, 1, 3)"
   ]
  },
  {
   "cell_type": "code",
   "execution_count": 14,
   "metadata": {},
   "outputs": [
    {
     "data": {
      "text/plain": [
       "(400, 1, 1, 3)"
      ]
     },
     "execution_count": 14,
     "metadata": {},
     "output_type": "execute_result"
    }
   ],
   "source": [
    "olors.shape"
   ]
  },
  {
   "cell_type": "code",
   "execution_count": 2,
   "metadata": {},
   "outputs": [
    {
     "data": {
      "text/plain": [
       "0"
      ]
     },
     "execution_count": 2,
     "metadata": {},
     "output_type": "execute_result"
    }
   ],
   "source": [
    "0%3"
   ]
  },
  {
   "cell_type": "code",
   "execution_count": 3,
   "metadata": {},
   "outputs": [],
   "source": [
    "a = {}\n",
    "a['a'] = [1,2]"
   ]
  },
  {
   "cell_type": "code",
   "execution_count": 4,
   "metadata": {},
   "outputs": [
    {
     "data": {
      "text/plain": [
       "{'a': [1, 2]}"
      ]
     },
     "execution_count": 4,
     "metadata": {},
     "output_type": "execute_result"
    }
   ],
   "source": [
    "a\n"
   ]
  },
  {
   "cell_type": "code",
   "execution_count": null,
   "metadata": {},
   "outputs": [],
   "source": []
  }
 ],
 "metadata": {
  "kernelspec": {
   "display_name": "Python [conda env:centerpoint]",
   "language": "python",
   "name": "conda-env-centerpoint-py"
  },
  "language_info": {
   "codemirror_mode": {
    "name": "ipython",
    "version": 3
   },
   "file_extension": ".py",
   "mimetype": "text/x-python",
   "name": "python",
   "nbconvert_exporter": "python",
   "pygments_lexer": "ipython3",
   "version": "3.6.7"
  }
 },
 "nbformat": 4,
 "nbformat_minor": 4
}
