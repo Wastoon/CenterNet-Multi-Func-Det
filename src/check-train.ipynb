{
 "cells": [
  {
   "cell_type": "code",
   "execution_count": 1,
   "metadata": {},
   "outputs": [
    {
     "name": "stdout",
     "output_type": "stream",
     "text": [
      "Using tensorboardX\n",
      "Fix size testing.\n",
      "training chunk_sizes: [1]\n",
      "The output will be saved to  /data/mry/code/CenterNet/src/lib/../../exp/gridneighbordet/gridneighbordet-debug-loss\n",
      "heads {'hm': 80, 'wh': 2, 'reg': 2}\n",
      "Namespace(K=100, aggr_weight=0.0, agnostic_ex=False, arch='hourglass', aug_ddd=0.5, aug_rot=0, batch_size=1, cat_spec_wh=False, center_thresh=0.1, chunk_sizes=[1], data_dir='/data/mry/DataSet/', dataset='coco', debug=2, debug_dir='/data/mry/code/CenterNet/src/lib/../../exp/gridneighbordet/gridneighbordet-debug-loss/debug', debugger_theme='white', demo='/data/mry/DataSet/COCO/val2014', dense_hp=False, dense_wh=False, dep_weight=1, det_output_path='', dim_weight=1, down_ratio=4, eval_oracle_dep=False, eval_oracle_hm=False, eval_oracle_hmhp=False, eval_oracle_hp_offset=False, eval_oracle_kps=False, eval_oracle_offset=False, eval_oracle_wh=False, exp_dir='/data/mry/code/CenterNet/src/lib/../../exp/gridneighbordet', exp_id='gridneighbordet-debug-loss', fix_res=True, flip=0, flip_test=False, gpus=[0], gpus_str='0', head_conv=64, heads={'hm': 80, 'wh': 2, 'reg': 2}, hide_data_time=False, hm_hp=True, hm_hp_weight=1, hm_weight=1, hp_weight=1, input_h=512, input_res=512, input_w=512, keep_inp_res_prob=0, keep_res=False, kitti_split='3dop', load_model='/data/mry/code/CenterNet/models/ctdet_coco_hg.pth', logger_iteration=1, lr=0.000125, lr_step=[90, 120], master_batch_size=1, mean=array([[[0.40789655, 0.44719303, 0.47026116]]], dtype=float32), metric='loss', mse_loss=False, nms=False, no_color_aug=False, norm_wh=False, not_cuda_benchmark=False, not_hm_hp=False, not_prefetch_test=False, not_rand_crop=False, not_reg_bbox=False, not_reg_hp_offset=False, not_reg_offset=False, num_classes=80, num_epochs=60, num_iters=-1, num_stacks=1, num_workers=0, off_weight=1, output_h=128, output_res=128, output_w=128, pad=127, peak_thresh=0.2, point_flags=[0], print_iter=0, rect_mask=False, reg_bbox=True, reg_hp_offset=True, reg_loss='l1', reg_offset=True, reg_or_reghm=False, resume=False, root_dir='/data/mry/code/CenterNet/src/lib/../..', rot_weight=1, rotate=0, save_all=False, save_dir='/data/mry/code/CenterNet/src/lib/../../exp/gridneighbordet/gridneighbordet-debug-loss', scale=0.4, scores_thresh=0.1, seed=317, shift=0.1, std=array([[[0.2886383 , 0.27408165, 0.27809834]]], dtype=float32), task='gridneighbordet', test=False, test_scales=[1.0], test_split='full', trainval=False, val_intervals=1, vis_thresh=0.0, wh_weight=0.1)\n",
      "Creating model...\n",
      "loaded /data/mry/code/CenterNet/models/ctdet_coco_hg.pth, epoch 50\n",
      "Setting up data...\n",
      "==> initializing coco 2014 val data.\n",
      "loading annotations into memory...\n",
      "Done (t=6.06s)\n",
      "creating index...\n",
      "index created!\n",
      "Loaded val 40504 samples\n",
      "==> initializing coco 2014 train data.\n",
      "loading annotations into memory...\n",
      "Done (t=14.01s)\n",
      "creating index...\n",
      "index created!\n",
      "Loaded train 82783 samples\n",
      "Starting training...\n",
      "> /data/mry/code/CenterNet/src/lib/datasets/sample/gridneighbor.py(144)__getitem__()\n",
      "-> row = main_points//3\n"
     ]
    },
    {
     "name": "stdin",
     "output_type": "stream",
     "text": [
      "(Pdb)  a\n"
     ]
    },
    {
     "name": "stdout",
     "output_type": "stream",
     "text": [
      "self = <datasets.dataset_factory.get_dataset.<locals>.Dataset object at 0x7fc031111f98>\n",
      "index = 7635\n"
     ]
    },
    {
     "name": "stdin",
     "output_type": "stream",
     "text": [
      "(Pdb)  n\n"
     ]
    },
    {
     "name": "stdout",
     "output_type": "stream",
     "text": [
      "> /data/mry/code/CenterNet/src/lib/datasets/sample/gridneighbor.py(145)__getitem__()\n",
      "-> col = main_points%3\n"
     ]
    },
    {
     "name": "stdin",
     "output_type": "stream",
     "text": [
      "(Pdb)  row\n"
     ]
    },
    {
     "name": "stdout",
     "output_type": "stream",
     "text": [
      "0\n"
     ]
    },
    {
     "name": "stdin",
     "output_type": "stream",
     "text": [
      "(Pdb)  n\n"
     ]
    },
    {
     "name": "stdout",
     "output_type": "stream",
     "text": [
      "> /data/mry/code/CenterNet/src/lib/datasets/sample/gridneighbor.py(146)__getitem__()\n",
      "-> x_l, y_l = 3-col, 3-row\n"
     ]
    },
    {
     "name": "stdin",
     "output_type": "stream",
     "text": [
      "(Pdb)  col\n"
     ]
    },
    {
     "name": "stdout",
     "output_type": "stream",
     "text": [
      "0\n"
     ]
    },
    {
     "name": "stdin",
     "output_type": "stream",
     "text": [
      "(Pdb)  n\n"
     ]
    },
    {
     "name": "stdout",
     "output_type": "stream",
     "text": [
      "> /data/mry/code/CenterNet/src/lib/datasets/sample/gridneighbor.py(147)__getitem__()\n",
      "-> x_r, y_r = 1+col, 1+row\n"
     ]
    },
    {
     "name": "stdin",
     "output_type": "stream",
     "text": [
      "(Pdb)  n\n"
     ]
    },
    {
     "name": "stdout",
     "output_type": "stream",
     "text": [
      "> /data/mry/code/CenterNet/src/lib/datasets/sample/gridneighbor.py(148)__getitem__()\n",
      "-> ct = np.array([(x_l * bbox[0] + x_r * bbox[2]) / 4, (y_l * bbox[1] + y_r * bbox[3])/4], dtype=np.float32)\n"
     ]
    },
    {
     "name": "stdin",
     "output_type": "stream",
     "text": [
      "(Pdb)  box[0]\n"
     ]
    },
    {
     "name": "stdout",
     "output_type": "stream",
     "text": [
      "*** NameError: name 'box' is not defined\n"
     ]
    },
    {
     "name": "stdin",
     "output_type": "stream",
     "text": [
      "(Pdb)  bbox[0]\n"
     ]
    },
    {
     "name": "stdout",
     "output_type": "stream",
     "text": [
      "56.576664\n"
     ]
    },
    {
     "name": "stdin",
     "output_type": "stream",
     "text": [
      "(Pdb)  bbox[2]\n"
     ]
    },
    {
     "name": "stdout",
     "output_type": "stream",
     "text": [
      "127.0\n"
     ]
    },
    {
     "name": "stdin",
     "output_type": "stream",
     "text": [
      "(Pdb)  bbox[1]\n"
     ]
    },
    {
     "name": "stdout",
     "output_type": "stream",
     "text": [
      "36.05\n"
     ]
    },
    {
     "name": "stdin",
     "output_type": "stream",
     "text": [
      "(Pdb)  bbox[3]\n"
     ]
    },
    {
     "name": "stdout",
     "output_type": "stream",
     "text": [
      "118.299995\n"
     ]
    },
    {
     "name": "stdin",
     "output_type": "stream",
     "text": [
      "(Pdb)  n\n"
     ]
    },
    {
     "name": "stdout",
     "output_type": "stream",
     "text": [
      "> /data/mry/code/CenterNet/src/lib/datasets/sample/gridneighbor.py(149)__getitem__()\n",
      "-> ct_int = ct.astype(np.int32)\n"
     ]
    },
    {
     "name": "stdin",
     "output_type": "stream",
     "text": [
      "(Pdb)  n\n"
     ]
    },
    {
     "name": "stdout",
     "output_type": "stream",
     "text": [
      "> /data/mry/code/CenterNet/src/lib/datasets/sample/gridneighbor.py(150)__getitem__()\n",
      "-> draw_gaussian(hm[cls_id*main_points_num+idx], ct_int, radius)\n"
     ]
    },
    {
     "name": "stdin",
     "output_type": "stream",
     "text": [
      "(Pdb)  ct_int\n"
     ]
    },
    {
     "name": "stdout",
     "output_type": "stream",
     "text": [
      "array([74, 56], dtype=int32)\n"
     ]
    },
    {
     "name": "stdin",
     "output_type": "stream",
     "text": [
      "(Pdb)  n\n"
     ]
    },
    {
     "name": "stdout",
     "output_type": "stream",
     "text": [
      "> /data/mry/code/CenterNet/src/lib/datasets/sample/gridneighbor.py(152)__getitem__()\n",
      "-> ind[k][idx] = ct_int[1] * output_w + ct_int[0]\n"
     ]
    },
    {
     "name": "stdin",
     "output_type": "stream",
     "text": [
      "(Pdb)  n\n"
     ]
    },
    {
     "name": "stdout",
     "output_type": "stream",
     "text": [
      "> /data/mry/code/CenterNet/src/lib/datasets/sample/gridneighbor.py(153)__getitem__()\n",
      "-> wh[k] [2*idx:2*idx+2]= np.array([ct[0]-bbox[0], ct[1]-bbox[1]], dtype=np.float32)\n"
     ]
    },
    {
     "name": "stdin",
     "output_type": "stream",
     "text": [
      "(Pdb)  n\n"
     ]
    },
    {
     "name": "stdout",
     "output_type": "stream",
     "text": [
      "> /data/mry/code/CenterNet/src/lib/datasets/sample/gridneighbor.py(154)__getitem__()\n",
      "-> reg[k][2*idx:2*idx+2] = ct - ct_int\n"
     ]
    },
    {
     "name": "stdin",
     "output_type": "stream",
     "text": [
      "(Pdb)  n\n"
     ]
    },
    {
     "name": "stdout",
     "output_type": "stream",
     "text": [
      "> /data/mry/code/CenterNet/src/lib/datasets/sample/gridneighbor.py(155)__getitem__()\n",
      "-> reg_mask[k][idx] = 1\n"
     ]
    },
    {
     "name": "stdin",
     "output_type": "stream",
     "text": [
      "(Pdb)  n\n"
     ]
    },
    {
     "name": "stdout",
     "output_type": "stream",
     "text": [
      "> /data/mry/code/CenterNet/src/lib/datasets/sample/gridneighbor.py(156)__getitem__()\n",
      "-> cat_spec_wh[k, cls_id * 2: cls_id * 2 + 2] = wh[k][2*idx:2*idx+2]\n"
     ]
    },
    {
     "name": "stdin",
     "output_type": "stream",
     "text": [
      "(Pdb)  n\n"
     ]
    },
    {
     "name": "stdout",
     "output_type": "stream",
     "text": [
      "> /data/mry/code/CenterNet/src/lib/datasets/sample/gridneighbor.py(157)__getitem__()\n",
      "-> cat_spec_mask[k, cls_id * 2: cls_id * 2 + 2] = 1\n"
     ]
    },
    {
     "name": "stdin",
     "output_type": "stream",
     "text": [
      "(Pdb)  n\n"
     ]
    },
    {
     "name": "stdout",
     "output_type": "stream",
     "text": [
      "> /data/mry/code/CenterNet/src/lib/datasets/sample/gridneighbor.py(159)__getitem__()\n",
      "-> gt_det.append([ct[0] - w / 2, ct[1] - h / 2,\n"
     ]
    },
    {
     "name": "stdin",
     "output_type": "stream",
     "text": [
      "(Pdb)  n\n"
     ]
    },
    {
     "name": "stdout",
     "output_type": "stream",
     "text": [
      "> /data/mry/code/CenterNet/src/lib/datasets/sample/gridneighbor.py(160)__getitem__()\n",
      "-> ct[0] + w / 2, ct[1] + h / 2, 1, cls_id])\n"
     ]
    },
    {
     "name": "stdin",
     "output_type": "stream",
     "text": [
      "(Pdb)  n\n"
     ]
    },
    {
     "name": "stdout",
     "output_type": "stream",
     "text": [
      "> /data/mry/code/CenterNet/src/lib/datasets/sample/gridneighbor.py(141)__getitem__()\n",
      "-> for idx, main_points in enumerate(main_points_list):\n"
     ]
    },
    {
     "name": "stdin",
     "output_type": "stream",
     "text": [
      "(Pdb)  n\n"
     ]
    },
    {
     "name": "stdout",
     "output_type": "stream",
     "text": [
      "> /data/mry/code/CenterNet/src/lib/datasets/sample/gridneighbor.py(174)__getitem__()\n",
      "-> '''\n"
     ]
    },
    {
     "name": "stdin",
     "output_type": "stream",
     "text": [
      "(Pdb)  n\n"
     ]
    },
    {
     "name": "stdout",
     "output_type": "stream",
     "text": [
      "> /data/mry/code/CenterNet/src/lib/datasets/sample/gridneighbor.py(124)__getitem__()\n",
      "-> for k in range(num_objs):\n"
     ]
    },
    {
     "name": "stdin",
     "output_type": "stream",
     "text": [
      "(Pdb)  n\n"
     ]
    },
    {
     "name": "stdout",
     "output_type": "stream",
     "text": [
      "> /data/mry/code/CenterNet/src/lib/datasets/sample/gridneighbor.py(176)__getitem__()\n",
      "-> ret = {'input': inp, 'hm': hm, 'reg_mask': reg_mask, 'ind': ind, 'wh': wh}\n"
     ]
    },
    {
     "name": "stdin",
     "output_type": "stream",
     "text": [
      "(Pdb)  n\n"
     ]
    },
    {
     "name": "stdout",
     "output_type": "stream",
     "text": [
      "> /data/mry/code/CenterNet/src/lib/datasets/sample/gridneighbor.py(177)__getitem__()\n",
      "-> if self.opt.dense_wh:\n"
     ]
    },
    {
     "name": "stdin",
     "output_type": "stream",
     "text": [
      "(Pdb)  ret\n"
     ]
    },
    {
     "name": "stdout",
     "output_type": "stream",
     "text": [
      "{'input': array([[[-1.5947182 , -1.5947182 , -1.5947182 , ..., -1.5947182 ,\n",
      "         -1.5947182 , -1.5947182 ],\n",
      "        [-1.5947182 , -1.5947182 , -1.5947182 , ..., -1.5947182 ,\n",
      "         -1.5947182 , -1.5947182 ],\n",
      "        [-1.5947182 , -1.5947182 , -1.5947182 , ..., -1.5947182 ,\n",
      "         -1.5947182 , -1.5947182 ],\n",
      "        ...,\n",
      "        [-0.55301505, -0.27942815, -0.15052657, ...,  0.42298537,\n",
      "          0.30460644,  0.22568733],\n",
      "        [-0.30573466, -0.1101791 , -0.09965644, ...,  0.4755982 ,\n",
      "          0.39667875,  0.35721916],\n",
      "        [-0.14789614, -0.07598037, -0.2075125 , ...,  0.50190455,\n",
      "          0.5150578 ,  0.528211  ]],\n",
      "\n",
      "       [[-1.820802  , -1.820802  , -1.820802  , ..., -1.820802  ,\n",
      "         -1.820802  , -1.820802  ],\n",
      "        [-1.820802  , -1.820802  , -1.820802  , ..., -1.820802  ,\n",
      "         -1.820802  , -1.820802  ],\n",
      "        [-1.820802  , -1.820802  , -1.820802  , ..., -1.820802  ,\n",
      "         -1.820802  , -1.820802  ],\n",
      "        ...,\n",
      "        [-0.8095749 , -0.5321828 , -0.40716046, ...,  0.21826155,\n",
      "          0.09359545,  0.01048479],\n",
      "        [-0.5598866 , -0.36467025, -0.3643138 , ...,  0.27366868,\n",
      "          0.19055778,  0.14900245],\n",
      "        [-0.39366513, -0.35010558, -0.48862335, ...,  0.301372  ,\n",
      "          0.315224  ,  0.32907578]],\n",
      "\n",
      "       [[-1.8720903 , -1.8720903 , -1.8720903 , ..., -1.8720903 ,\n",
      "         -1.8720903 , -1.8720903 ],\n",
      "        [-1.8720903 , -1.8720903 , -1.8720903 , ..., -1.8720903 ,\n",
      "         -1.8720903 , -1.8720903 ],\n",
      "        [-1.8720903 , -1.8720903 , -1.8720903 , ..., -1.8720903 ,\n",
      "         -1.8720903 , -1.8720903 ],\n",
      "        ...,\n",
      "        [-0.9071797 , -0.63379425, -0.51057756, ...,  0.13752209,\n",
      "          0.01465659, -0.06725366],\n",
      "        [-0.66109776, -0.45813075, -0.45777947, ...,  0.19212893,\n",
      "          0.11021845,  0.06926332],\n",
      "        [-0.49727717, -0.4437765 , -0.5802936 , ...,  0.21943213,\n",
      "          0.23308405,  0.24673577]]], dtype=float32), 'hm': array([[[0., 0., 0., ..., 0., 0., 0.],\n",
      "        [0., 0., 0., ..., 0., 0., 0.],\n",
      "        [0., 0., 0., ..., 0., 0., 0.],\n",
      "        ...,\n",
      "        [0., 0., 0., ..., 0., 0., 0.],\n",
      "        [0., 0., 0., ..., 0., 0., 0.],\n",
      "        [0., 0., 0., ..., 0., 0., 0.]],\n",
      "\n",
      "       [[0., 0., 0., ..., 0., 0., 0.],\n",
      "        [0., 0., 0., ..., 0., 0., 0.],\n",
      "        [0., 0., 0., ..., 0., 0., 0.],\n",
      "        ...,\n",
      "        [0., 0., 0., ..., 0., 0., 0.],\n",
      "        [0., 0., 0., ..., 0., 0., 0.],\n",
      "        [0., 0., 0., ..., 0., 0., 0.]],\n",
      "\n",
      "       [[0., 0., 0., ..., 0., 0., 0.],\n",
      "        [0., 0., 0., ..., 0., 0., 0.],\n",
      "        [0., 0., 0., ..., 0., 0., 0.],\n",
      "        ...,\n",
      "        [0., 0., 0., ..., 0., 0., 0.],\n",
      "        [0., 0., 0., ..., 0., 0., 0.],\n",
      "        [0., 0., 0., ..., 0., 0., 0.]],\n",
      "\n",
      "       ...,\n",
      "\n",
      "       [[0., 0., 0., ..., 0., 0., 0.],\n",
      "        [0., 0., 0., ..., 0., 0., 0.],\n",
      "        [0., 0., 0., ..., 0., 0., 0.],\n",
      "        ...,\n",
      "        [0., 0., 0., ..., 0., 0., 0.],\n",
      "        [0., 0., 0., ..., 0., 0., 0.],\n",
      "        [0., 0., 0., ..., 0., 0., 0.]],\n",
      "\n",
      "       [[0., 0., 0., ..., 0., 0., 0.],\n",
      "        [0., 0., 0., ..., 0., 0., 0.],\n",
      "        [0., 0., 0., ..., 0., 0., 0.],\n",
      "        ...,\n",
      "        [0., 0., 0., ..., 0., 0., 0.],\n",
      "        [0., 0., 0., ..., 0., 0., 0.],\n",
      "        [0., 0., 0., ..., 0., 0., 0.]],\n",
      "\n",
      "       [[0., 0., 0., ..., 0., 0., 0.],\n",
      "        [0., 0., 0., ..., 0., 0., 0.],\n",
      "        [0., 0., 0., ..., 0., 0., 0.],\n",
      "        ...,\n",
      "        [0., 0., 0., ..., 0., 0., 0.],\n",
      "        [0., 0., 0., ..., 0., 0., 0.],\n",
      "        [0., 0., 0., ..., 0., 0., 0.]]], dtype=float32), 'reg_mask': array([[1],\n",
      "       [0],\n",
      "       [0],\n",
      "       [0],\n",
      "       [0],\n",
      "       [0],\n",
      "       [0],\n",
      "       [0],\n",
      "       [0],\n",
      "       [0],\n",
      "       [0],\n",
      "       [0],\n",
      "       [0],\n",
      "       [0],\n",
      "       [0],\n",
      "       [0],\n",
      "       [0],\n",
      "       [0],\n",
      "       [0],\n",
      "       [0],\n",
      "       [0],\n",
      "       [0],\n",
      "       [0],\n",
      "       [0],\n",
      "       [0],\n",
      "       [0],\n",
      "       [0],\n",
      "       [0],\n",
      "       [0],\n",
      "       [0],\n",
      "       [0],\n",
      "       [0]], dtype=uint8), 'ind': array([[7242],\n",
      "       [   0],\n",
      "       [   0],\n",
      "       [   0],\n",
      "       [   0],\n",
      "       [   0],\n",
      "       [   0],\n",
      "       [   0],\n",
      "       [   0],\n",
      "       [   0],\n",
      "       [   0],\n",
      "       [   0],\n",
      "       [   0],\n",
      "       [   0],\n",
      "       [   0],\n",
      "       [   0],\n",
      "       [   0],\n",
      "       [   0],\n",
      "       [   0],\n",
      "       [   0],\n",
      "       [   0],\n",
      "       [   0],\n",
      "       [   0],\n",
      "       [   0],\n",
      "       [   0],\n",
      "       [   0],\n",
      "       [   0],\n",
      "       [   0],\n",
      "       [   0],\n",
      "       [   0],\n",
      "       [   0],\n",
      "       [   0]]), 'wh': array([[17.605831, 20.5625  ],\n",
      "       [ 0.      ,  0.      ],\n",
      "       [ 0.      ,  0.      ],\n",
      "       [ 0.      ,  0.      ],\n",
      "       [ 0.      ,  0.      ],\n",
      "       [ 0.      ,  0.      ],\n",
      "       [ 0.      ,  0.      ],\n",
      "       [ 0.      ,  0.      ],\n",
      "       [ 0.      ,  0.      ],\n",
      "       [ 0.      ,  0.      ],\n",
      "       [ 0.      ,  0.      ],\n",
      "       [ 0.      ,  0.      ],\n",
      "       [ 0.      ,  0.      ],\n",
      "       [ 0.      ,  0.      ],\n",
      "       [ 0.      ,  0.      ],\n",
      "       [ 0.      ,  0.      ],\n",
      "       [ 0.      ,  0.      ],\n",
      "       [ 0.      ,  0.      ],\n",
      "       [ 0.      ,  0.      ],\n",
      "       [ 0.      ,  0.      ],\n",
      "       [ 0.      ,  0.      ],\n",
      "       [ 0.      ,  0.      ],\n",
      "       [ 0.      ,  0.      ],\n",
      "       [ 0.      ,  0.      ],\n",
      "       [ 0.      ,  0.      ],\n",
      "       [ 0.      ,  0.      ],\n",
      "       [ 0.      ,  0.      ],\n",
      "       [ 0.      ,  0.      ],\n",
      "       [ 0.      ,  0.      ],\n",
      "       [ 0.      ,  0.      ],\n",
      "       [ 0.      ,  0.      ],\n",
      "       [ 0.      ,  0.      ]], dtype=float32)}\n"
     ]
    },
    {
     "name": "stdin",
     "output_type": "stream",
     "text": [
      "(Pdb)  import matplotlib.pyplot as plt\n",
      "(Pdb)  plt.imshow(ret['hm'][0])\n"
     ]
    },
    {
     "name": "stdout",
     "output_type": "stream",
     "text": [
      "<matplotlib.image.AxesImage object at 0x7fbfae7ccef0>\n"
     ]
    },
    {
     "name": "stdin",
     "output_type": "stream",
     "text": [
      "(Pdb)  plt.show()\n"
     ]
    },
    {
     "data": {
      "image/png": "[encoded data removed]",
      "text/plain": [
       "<Figure size 432x288 with 1 Axes>"
      ]
     },
     "metadata": {
      "needs_background": "light"
     },
     "output_type": "display_data"
    },
    {
     "name": "stdin",
     "output_type": "stream",
     "text": [
      "(Pdb)  plt.imshow(ret['inputs'][0])\n"
     ]
    },
    {
     "name": "stdout",
     "output_type": "stream",
     "text": [
      "*** KeyError: 'inputs'\n"
     ]
    },
    {
     "name": "stdin",
     "output_type": "stream",
     "text": [
      "(Pdb)  plt.imshow(ret['input'][0])\n"
     ]
    },
    {
     "name": "stdout",
     "output_type": "stream",
     "text": [
      "<matplotlib.image.AxesImage object at 0x7fbfae6f6160>\n"
     ]
    },
    {
     "name": "stdin",
     "output_type": "stream",
     "text": [
      "(Pdb)  plt.show()\n"
     ]
    },
    {
     "data": {
      "image/png": "[encoded data removed]",
      "text/plain": [
       "<Figure size 432x288 with 1 Axes>"
      ]
     },
     "metadata": {
      "needs_background": "light"
     },
     "output_type": "display_data"
    },
    {
     "name": "stdin",
     "output_type": "stream",
     "text": [
      "(Pdb)  plt.imshow(ret['hm'][21])\n"
     ]
    },
    {
     "name": "stdout",
     "output_type": "stream",
     "text": [
      "<matplotlib.image.AxesImage object at 0x7fbfae6e1198>\n"
     ]
    },
    {
     "name": "stdin",
     "output_type": "stream",
     "text": [
      "(Pdb)  plt.show()\n"
     ]
    },
    {
     "data": {
      "image/png": "[encoded data removed]",
      "text/plain": [
       "<Figure size 432x288 with 1 Axes>"
      ]
     },
     "metadata": {
      "needs_background": "light"
     },
     "output_type": "display_data"
    },
    {
     "name": "stdin",
     "output_type": "stream",
     "text": [
      "(Pdb)  n\n"
     ]
    },
    {
     "name": "stdout",
     "output_type": "stream",
     "text": [
      "> /data/mry/code/CenterNet/src/lib/datasets/sample/gridneighbor.py(182)__getitem__()\n",
      "-> elif self.opt.cat_spec_wh:\n"
     ]
    },
    {
     "name": "stdin",
     "output_type": "stream",
     "text": [
      "(Pdb)  n\n"
     ]
    },
    {
     "name": "stdout",
     "output_type": "stream",
     "text": [
      "> /data/mry/code/CenterNet/src/lib/datasets/sample/gridneighbor.py(185)__getitem__()\n",
      "-> if self.opt.reg_offset:\n"
     ]
    },
    {
     "name": "stdin",
     "output_type": "stream",
     "text": [
      "(Pdb)  n\n"
     ]
    },
    {
     "name": "stdout",
     "output_type": "stream",
     "text": [
      "> /data/mry/code/CenterNet/src/lib/datasets/sample/gridneighbor.py(186)__getitem__()\n",
      "-> ret.update({'reg': reg})\n"
     ]
    },
    {
     "name": "stdin",
     "output_type": "stream",
     "text": [
      "(Pdb)  n\n"
     ]
    },
    {
     "name": "stdout",
     "output_type": "stream",
     "text": [
      "> /data/mry/code/CenterNet/src/lib/datasets/sample/gridneighbor.py(187)__getitem__()\n",
      "-> if self.opt.debug > 0 or not self.split == 'train':\n"
     ]
    },
    {
     "name": "stdin",
     "output_type": "stream",
     "text": [
      "(Pdb)  n\n"
     ]
    },
    {
     "name": "stdout",
     "output_type": "stream",
     "text": [
      "> /data/mry/code/CenterNet/src/lib/datasets/sample/gridneighbor.py(188)__getitem__()\n",
      "-> gt_det = np.array(gt_det, dtype=np.float32) if len(gt_det) > 0 else \\\n"
     ]
    },
    {
     "name": "stdin",
     "output_type": "stream",
     "text": [
      "(Pdb)  \n"
     ]
    },
    {
     "name": "stdout",
     "output_type": "stream",
     "text": [
      "> /data/mry/code/CenterNet/src/lib/datasets/sample/gridneighbor.py(190)__getitem__()\n",
      "-> meta = {'c': c, 's': s, 'gt_det': gt_det, 'img_id': img_id}\n"
     ]
    },
    {
     "name": "stdin",
     "output_type": "stream",
     "text": [
      "(Pdb)  \n"
     ]
    },
    {
     "name": "stdout",
     "output_type": "stream",
     "text": [
      "> /data/mry/code/CenterNet/src/lib/datasets/sample/gridneighbor.py(191)__getitem__()\n",
      "-> ret['meta'] = meta\n"
     ]
    },
    {
     "name": "stdin",
     "output_type": "stream",
     "text": [
      "(Pdb)  meta['gt_det']\n"
     ]
    },
    {
     "name": "stdout",
     "output_type": "stream",
     "text": [
      "array([[ 38.970825,  15.487499, 109.394165,  97.7375  ,   1.      ,\n",
      "         21.      ]], dtype=float32)\n"
     ]
    },
    {
     "name": "stdin",
     "output_type": "stream",
     "text": [
      "(Pdb)  \n"
     ]
    },
    {
     "name": "stdout",
     "output_type": "stream",
     "text": [
      "array([[ 38.970825,  15.487499, 109.394165,  97.7375  ,   1.      ,\n",
      "         21.      ]], dtype=float32)\n"
     ]
    },
    {
     "name": "stdin",
     "output_type": "stream",
     "text": [
      "(Pdb)  \n"
     ]
    },
    {
     "name": "stdout",
     "output_type": "stream",
     "text": [
      "array([[ 38.970825,  15.487499, 109.394165,  97.7375  ,   1.      ,\n",
      "         21.      ]], dtype=float32)\n"
     ]
    },
    {
     "name": "stdin",
     "output_type": "stream",
     "text": [
      "(Pdb)  n\n"
     ]
    },
    {
     "name": "stdout",
     "output_type": "stream",
     "text": [
      "> /data/mry/code/CenterNet/src/lib/datasets/sample/gridneighbor.py(192)__getitem__()\n",
      "-> return ret\n"
     ]
    },
    {
     "name": "stdin",
     "output_type": "stream",
     "text": [
      "(Pdb)  n\n"
     ]
    },
    {
     "name": "stdout",
     "output_type": "stream",
     "text": [
      "--Return--\n",
      "> /data/mry/code/CenterNet/src/lib/datasets/sample/gridneighbor.py(192)__getitem__()->{'hm': array([[[0., ...dtype=float32), 'ind': array([[7242]...      [   0]]), 'input': array([[[-1.5...dtype=float32), 'meta': {'c': array([243., ...dtype=float32), 'gt_det': array([[ 38.9...dtype=float32), 'img_id': 436411, 's': 384.0}, ...}\n",
      "-> return ret\n"
     ]
    },
    {
     "name": "stdin",
     "output_type": "stream",
     "text": [
      "(Pdb)  n\n"
     ]
    },
    {
     "name": "stdout",
     "output_type": "stream",
     "text": [
      "> /home/mry/anaconda3/envs/centerpoint/lib/python3.6/site-packages/torch/utils/data/dataloader.py(314)<listcomp>()\n",
      "-> batch = self.collate_fn([self.dataset[i] for i in indices])\n"
     ]
    },
    {
     "name": "stdin",
     "output_type": "stream",
     "text": [
      "(Pdb)  n\n"
     ]
    },
    {
     "name": "stdout",
     "output_type": "stream",
     "text": [
      "--Return--\n",
      "> /home/mry/anaconda3/envs/centerpoint/lib/python3.6/site-packages/torch/utils/data/dataloader.py(314)<listcomp>()->[{'hm': array([[[0., ...dtype=float32), 'ind': array([[7242]...      [   0]]), 'input': array([[[-1.5...dtype=float32), 'meta': {'c': array([243., ...dtype=float32), 'gt_det': array([[ 38.9...dtype=float32), 'img_id': 436411, 's': 384.0}, ...}]\n",
      "-> batch = self.collate_fn([self.dataset[i] for i in indices])\n"
     ]
    },
    {
     "name": "stdin",
     "output_type": "stream",
     "text": [
      "(Pdb)  n\n"
     ]
    },
    {
     "name": "stdout",
     "output_type": "stream",
     "text": [
      "--Call--\n",
      "> /home/mry/anaconda3/envs/centerpoint/lib/python3.6/site-packages/torch/utils/data/dataloader.py(151)default_collate()\n",
      "-> def default_collate(batch):\n"
     ]
    },
    {
     "name": "stdin",
     "output_type": "stream",
     "text": [
      "(Pdb)  n\n"
     ]
    },
    {
     "name": "stdout",
     "output_type": "stream",
     "text": [
      "> /home/mry/anaconda3/envs/centerpoint/lib/python3.6/site-packages/torch/utils/data/dataloader.py(154)default_collate()\n",
      "-> error_msg = \"batch must contain tensors, numbers, dicts or lists; found {}\"\n"
     ]
    },
    {
     "name": "stdin",
     "output_type": "stream",
     "text": [
      "(Pdb)  n\n"
     ]
    },
    {
     "name": "stdout",
     "output_type": "stream",
     "text": [
      "> /home/mry/anaconda3/envs/centerpoint/lib/python3.6/site-packages/torch/utils/data/dataloader.py(155)default_collate()\n",
      "-> elem_type = type(batch[0])\n"
     ]
    },
    {
     "name": "stdin",
     "output_type": "stream",
     "text": [
      "(Pdb)  n\n"
     ]
    },
    {
     "name": "stdout",
     "output_type": "stream",
     "text": [
      "> /home/mry/anaconda3/envs/centerpoint/lib/python3.6/site-packages/torch/utils/data/dataloader.py(156)default_collate()\n",
      "-> if isinstance(batch[0], torch.Tensor):\n"
     ]
    },
    {
     "name": "stdin",
     "output_type": "stream",
     "text": [
      "(Pdb)  n\n"
     ]
    },
    {
     "name": "stdout",
     "output_type": "stream",
     "text": [
      "> /home/mry/anaconda3/envs/centerpoint/lib/python3.6/site-packages/torch/utils/data/dataloader.py(165)default_collate()\n",
      "-> elif elem_type.__module__ == 'numpy' and elem_type.__name__ != 'str_' \\\n"
     ]
    },
    {
     "name": "stdin",
     "output_type": "stream",
     "text": [
      "(Pdb)  n\n"
     ]
    },
    {
     "name": "stdout",
     "output_type": "stream",
     "text": [
      "> /home/mry/anaconda3/envs/centerpoint/lib/python3.6/site-packages/torch/utils/data/dataloader.py(177)default_collate()\n",
      "-> elif isinstance(batch[0], int_classes):\n"
     ]
    },
    {
     "name": "stdin",
     "output_type": "stream",
     "text": [
      "(Pdb)  n\n"
     ]
    },
    {
     "name": "stdout",
     "output_type": "stream",
     "text": [
      "> /home/mry/anaconda3/envs/centerpoint/lib/python3.6/site-packages/torch/utils/data/dataloader.py(179)default_collate()\n",
      "-> elif isinstance(batch[0], float):\n"
     ]
    },
    {
     "name": "stdin",
     "output_type": "stream",
     "text": [
      "(Pdb)  n\n"
     ]
    },
    {
     "name": "stdout",
     "output_type": "stream",
     "text": [
      "> /home/mry/anaconda3/envs/centerpoint/lib/python3.6/site-packages/torch/utils/data/dataloader.py(181)default_collate()\n",
      "-> elif isinstance(batch[0], string_classes):\n"
     ]
    },
    {
     "name": "stdin",
     "output_type": "stream",
     "text": [
      "(Pdb)  n\n"
     ]
    },
    {
     "name": "stdout",
     "output_type": "stream",
     "text": [
      "> /home/mry/anaconda3/envs/centerpoint/lib/python3.6/site-packages/torch/utils/data/dataloader.py(183)default_collate()\n",
      "-> elif isinstance(batch[0], collections.Mapping):\n"
     ]
    },
    {
     "name": "stdin",
     "output_type": "stream",
     "text": [
      "(Pdb)  n\n"
     ]
    },
    {
     "name": "stdout",
     "output_type": "stream",
     "text": [
      "> /home/mry/anaconda3/envs/centerpoint/lib/python3.6/site-packages/torch/utils/data/dataloader.py(184)default_collate()\n",
      "-> return {key: default_collate([d[key] for d in batch]) for key in batch[0]}\n"
     ]
    },
    {
     "name": "stdin",
     "output_type": "stream",
     "text": [
      "(Pdb)  n\n"
     ]
    },
    {
     "name": "stdout",
     "output_type": "stream",
     "text": [
      "--Return--\n",
      "> /home/mry/anaconda3/envs/centerpoint/lib/python3.6/site-packages/torch/utils/data/dataloader.py(184)default_collate()->{'hm': tensor([[[[0....0, 0.0000]]]]), 'ind': tensor([[[724...     [   0]]]), 'input': tensor([[[[-1....4674e-01]]]]), 'meta': {'c': tensor([[243., 180.]]), 'gt_det': tensor([[[ 38...,  21.0000]]]), 'img_id': tensor([436411]), 's': tensor([384.]...torch.float64)}, ...}\n",
      "-> return {key: default_collate([d[key] for d in batch]) for key in batch[0]}\n"
     ]
    },
    {
     "name": "stdin",
     "output_type": "stream",
     "text": [
      "(Pdb)  n\n"
     ]
    },
    {
     "name": "stdout",
     "output_type": "stream",
     "text": [
      "> /home/mry/anaconda3/envs/centerpoint/lib/python3.6/site-packages/torch/utils/data/dataloader.py(315)__next__()\n",
      "-> if self.pin_memory:\n"
     ]
    },
    {
     "name": "stdin",
     "output_type": "stream",
     "text": [
      "(Pdb)  n\n"
     ]
    },
    {
     "name": "stdout",
     "output_type": "stream",
     "text": [
      "> /home/mry/anaconda3/envs/centerpoint/lib/python3.6/site-packages/torch/utils/data/dataloader.py(316)__next__()\n",
      "-> batch = pin_memory_batch(batch)\n"
     ]
    },
    {
     "name": "stdin",
     "output_type": "stream",
     "text": [
      "(Pdb)  n\n"
     ]
    },
    {
     "name": "stdout",
     "output_type": "stream",
     "text": [
      "> /home/mry/anaconda3/envs/centerpoint/lib/python3.6/site-packages/torch/utils/data/dataloader.py(317)__next__()\n",
      "-> return batch\n"
     ]
    },
    {
     "name": "stdin",
     "output_type": "stream",
     "text": [
      "(Pdb)  n\n"
     ]
    },
    {
     "name": "stdout",
     "output_type": "stream",
     "text": [
      "--Return--\n",
      "> /home/mry/anaconda3/envs/centerpoint/lib/python3.6/site-packages/torch/utils/data/dataloader.py(317)__next__()->{'hm': tensor([[[[0....0, 0.0000]]]]), 'ind': tensor([[[724...     [   0]]]), 'input': tensor([[[[-1....4674e-01]]]]), 'meta': {'c': tensor([[243., 180.]]), 'gt_det': tensor([[[ 38...,  21.0000]]]), 'img_id': tensor([436411]), 's': tensor([384.]...torch.float64)}, ...}\n",
      "-> return batch\n"
     ]
    },
    {
     "name": "stdin",
     "output_type": "stream",
     "text": [
      "(Pdb)  n\n"
     ]
    },
    {
     "name": "stdout",
     "output_type": "stream",
     "text": [
      "> /data/mry/code/CenterNet/src/lib/trains/base_trainer.py(62)run_epoch()\n",
      "-> if iter_id >= num_iters:\n"
     ]
    },
    {
     "name": "stdin",
     "output_type": "stream",
     "text": [
      "(Pdb)  n\n"
     ]
    },
    {
     "name": "stdout",
     "output_type": "stream",
     "text": [
      "> /data/mry/code/CenterNet/src/lib/trains/base_trainer.py(64)run_epoch()\n",
      "-> data_time.update(time.time() - end)\n"
     ]
    },
    {
     "name": "stdin",
     "output_type": "stream",
     "text": [
      "(Pdb)  n\n"
     ]
    },
    {
     "name": "stdout",
     "output_type": "stream",
     "text": [
      "> /data/mry/code/CenterNet/src/lib/trains/base_trainer.py(66)run_epoch()\n",
      "-> for k in batch:\n"
     ]
    },
    {
     "name": "stdin",
     "output_type": "stream",
     "text": [
      "(Pdb)  n\n"
     ]
    },
    {
     "name": "stdout",
     "output_type": "stream",
     "text": [
      "> /data/mry/code/CenterNet/src/lib/trains/base_trainer.py(67)run_epoch()\n",
      "-> if k != 'meta':\n"
     ]
    },
    {
     "name": "stdin",
     "output_type": "stream",
     "text": [
      "(Pdb)  n\n"
     ]
    },
    {
     "name": "stdout",
     "output_type": "stream",
     "text": [
      "> /data/mry/code/CenterNet/src/lib/trains/base_trainer.py(68)run_epoch()\n",
      "-> batch[k] = batch[k].to(device=opt.device, non_blocking=True)\n"
     ]
    },
    {
     "name": "stdin",
     "output_type": "stream",
     "text": [
      "(Pdb)  n\n"
     ]
    },
    {
     "name": "stdout",
     "output_type": "stream",
     "text": [
      "> /data/mry/code/CenterNet/src/lib/trains/base_trainer.py(66)run_epoch()\n",
      "-> for k in batch:\n"
     ]
    },
    {
     "name": "stdin",
     "output_type": "stream",
     "text": [
      "(Pdb)  n\n"
     ]
    },
    {
     "name": "stdout",
     "output_type": "stream",
     "text": [
      "> /data/mry/code/CenterNet/src/lib/trains/base_trainer.py(67)run_epoch()\n",
      "-> if k != 'meta':\n"
     ]
    },
    {
     "name": "stdin",
     "output_type": "stream",
     "text": [
      "(Pdb)  n\n"
     ]
    },
    {
     "name": "stdout",
     "output_type": "stream",
     "text": [
      "> /data/mry/code/CenterNet/src/lib/trains/base_trainer.py(68)run_epoch()\n",
      "-> batch[k] = batch[k].to(device=opt.device, non_blocking=True)\n"
     ]
    },
    {
     "name": "stdin",
     "output_type": "stream",
     "text": [
      "(Pdb)  n\n"
     ]
    },
    {
     "name": "stdout",
     "output_type": "stream",
     "text": [
      "> /data/mry/code/CenterNet/src/lib/trains/base_trainer.py(66)run_epoch()\n",
      "-> for k in batch:\n"
     ]
    },
    {
     "name": "stdin",
     "output_type": "stream",
     "text": [
      "(Pdb)  n\n"
     ]
    },
    {
     "name": "stdout",
     "output_type": "stream",
     "text": [
      "> /data/mry/code/CenterNet/src/lib/trains/base_trainer.py(67)run_epoch()\n",
      "-> if k != 'meta':\n"
     ]
    },
    {
     "name": "stdin",
     "output_type": "stream",
     "text": [
      "(Pdb)  n\n"
     ]
    },
    {
     "name": "stdout",
     "output_type": "stream",
     "text": [
      "> /data/mry/code/CenterNet/src/lib/trains/base_trainer.py(68)run_epoch()\n",
      "-> batch[k] = batch[k].to(device=opt.device, non_blocking=True)\n"
     ]
    },
    {
     "name": "stdin",
     "output_type": "stream",
     "text": [
      "(Pdb)  n\n"
     ]
    },
    {
     "name": "stdout",
     "output_type": "stream",
     "text": [
      "> /data/mry/code/CenterNet/src/lib/trains/base_trainer.py(66)run_epoch()\n",
      "-> for k in batch:\n"
     ]
    },
    {
     "name": "stdin",
     "output_type": "stream",
     "text": [
      "(Pdb)  n\n"
     ]
    },
    {
     "name": "stdout",
     "output_type": "stream",
     "text": [
      "> /data/mry/code/CenterNet/src/lib/trains/base_trainer.py(67)run_epoch()\n",
      "-> if k != 'meta':\n"
     ]
    },
    {
     "name": "stdin",
     "output_type": "stream",
     "text": [
      "(Pdb)  n\n"
     ]
    },
    {
     "name": "stdout",
     "output_type": "stream",
     "text": [
      "> /data/mry/code/CenterNet/src/lib/trains/base_trainer.py(68)run_epoch()\n",
      "-> batch[k] = batch[k].to(device=opt.device, non_blocking=True)\n"
     ]
    },
    {
     "name": "stdin",
     "output_type": "stream",
     "text": [
      "(Pdb)  n\n"
     ]
    },
    {
     "name": "stdout",
     "output_type": "stream",
     "text": [
      "> /data/mry/code/CenterNet/src/lib/trains/base_trainer.py(66)run_epoch()\n",
      "-> for k in batch:\n"
     ]
    },
    {
     "name": "stdin",
     "output_type": "stream",
     "text": [
      "(Pdb)  n\n"
     ]
    },
    {
     "name": "stdout",
     "output_type": "stream",
     "text": [
      "> /data/mry/code/CenterNet/src/lib/trains/base_trainer.py(67)run_epoch()\n",
      "-> if k != 'meta':\n"
     ]
    },
    {
     "name": "stdin",
     "output_type": "stream",
     "text": [
      "(Pdb)  n\n"
     ]
    },
    {
     "name": "stdout",
     "output_type": "stream",
     "text": [
      "> /data/mry/code/CenterNet/src/lib/trains/base_trainer.py(68)run_epoch()\n",
      "-> batch[k] = batch[k].to(device=opt.device, non_blocking=True)\n"
     ]
    },
    {
     "name": "stdin",
     "output_type": "stream",
     "text": [
      "(Pdb)  n\n"
     ]
    },
    {
     "name": "stdout",
     "output_type": "stream",
     "text": [
      "> /data/mry/code/CenterNet/src/lib/trains/base_trainer.py(66)run_epoch()\n",
      "-> for k in batch:\n"
     ]
    },
    {
     "name": "stdin",
     "output_type": "stream",
     "text": [
      "(Pdb)  n\n"
     ]
    },
    {
     "name": "stdout",
     "output_type": "stream",
     "text": [
      "> /data/mry/code/CenterNet/src/lib/trains/base_trainer.py(67)run_epoch()\n",
      "-> if k != 'meta':\n"
     ]
    },
    {
     "name": "stdin",
     "output_type": "stream",
     "text": [
      "(Pdb)  n\n"
     ]
    },
    {
     "name": "stdout",
     "output_type": "stream",
     "text": [
      "> /data/mry/code/CenterNet/src/lib/trains/base_trainer.py(68)run_epoch()\n",
      "-> batch[k] = batch[k].to(device=opt.device, non_blocking=True)\n"
     ]
    },
    {
     "name": "stdin",
     "output_type": "stream",
     "text": [
      "(Pdb)  n\n"
     ]
    },
    {
     "name": "stdout",
     "output_type": "stream",
     "text": [
      "> /data/mry/code/CenterNet/src/lib/trains/base_trainer.py(66)run_epoch()\n",
      "-> for k in batch:\n"
     ]
    },
    {
     "name": "stdin",
     "output_type": "stream",
     "text": [
      "(Pdb)  n\n"
     ]
    },
    {
     "name": "stdout",
     "output_type": "stream",
     "text": [
      "> /data/mry/code/CenterNet/src/lib/trains/base_trainer.py(67)run_epoch()\n",
      "-> if k != 'meta':\n"
     ]
    },
    {
     "name": "stdin",
     "output_type": "stream",
     "text": [
      "(Pdb)  n\n"
     ]
    },
    {
     "name": "stdout",
     "output_type": "stream",
     "text": [
      "> /data/mry/code/CenterNet/src/lib/trains/base_trainer.py(66)run_epoch()\n",
      "-> for k in batch:\n"
     ]
    },
    {
     "name": "stdin",
     "output_type": "stream",
     "text": [
      "(Pdb)  n\n"
     ]
    },
    {
     "name": "stdout",
     "output_type": "stream",
     "text": [
      "> /data/mry/code/CenterNet/src/lib/trains/base_trainer.py(69)run_epoch()\n",
      "-> output, loss, loss_stats = model_with_loss(batch)\n"
     ]
    },
    {
     "name": "stdin",
     "output_type": "stream",
     "text": [
      "(Pdb)  n\n"
     ]
    },
    {
     "name": "stderr",
     "output_type": "stream",
     "text": [
      "/home/mry/anaconda3/envs/centerpoint/lib/python3.6/site-packages/torch/nn/modules/upsampling.py:122: UserWarning: nn.Upsampling is deprecated. Use nn.functional.interpolate instead.\n",
      "  warnings.warn(\"nn.Upsampling is deprecated. Use nn.functional.interpolate instead.\")\n",
      "/home/mry/anaconda3/envs/centerpoint/lib/python3.6/site-packages/torch/nn/functional.py:52: UserWarning: size_average and reduce args will be deprecated, please use reduction='sum' instead.\n",
      "  warnings.warn(warning.format(ret))\n"
     ]
    },
    {
     "name": "stdout",
     "output_type": "stream",
     "text": [
      "> /data/mry/code/CenterNet/src/lib/trains/base_trainer.py(70)run_epoch()\n",
      "-> loss = loss.mean()\n"
     ]
    },
    {
     "name": "stdin",
     "output_type": "stream",
     "text": [
      "(Pdb)  n\n"
     ]
    },
    {
     "name": "stdout",
     "output_type": "stream",
     "text": [
      "> /data/mry/code/CenterNet/src/lib/trains/base_trainer.py(71)run_epoch()\n",
      "-> if phase == 'train':\n"
     ]
    },
    {
     "name": "stdin",
     "output_type": "stream",
     "text": [
      "(Pdb)  n\n"
     ]
    },
    {
     "name": "stdout",
     "output_type": "stream",
     "text": [
      "> /data/mry/code/CenterNet/src/lib/trains/base_trainer.py(72)run_epoch()\n",
      "-> self.optimizer.zero_grad()\n"
     ]
    },
    {
     "name": "stdin",
     "output_type": "stream",
     "text": [
      "(Pdb)  n\n"
     ]
    },
    {
     "name": "stdout",
     "output_type": "stream",
     "text": [
      "> /data/mry/code/CenterNet/src/lib/trains/base_trainer.py(73)run_epoch()\n",
      "-> loss.backward()\n"
     ]
    },
    {
     "name": "stdin",
     "output_type": "stream",
     "text": [
      "(Pdb)  q\n"
     ]
    },
    {
     "ename": "BdbQuit",
     "evalue": "",
     "output_type": "error",
     "traceback": [
      "\u001b[0;31m---------------------------------------------------------------------------\u001b[0m",
      "\u001b[0;31mBdbQuit\u001b[0m                                   Traceback (most recent call last)",
      "\u001b[0;32m<ipython-input-1-e1e87c70158b>\u001b[0m in \u001b[0;36m<module>\u001b[0;34m\u001b[0m\n\u001b[1;32m    101\u001b[0m \u001b[0;32mif\u001b[0m \u001b[0m__name__\u001b[0m \u001b[0;34m==\u001b[0m \u001b[0;34m'__main__'\u001b[0m\u001b[0;34m:\u001b[0m\u001b[0;34m\u001b[0m\u001b[0;34m\u001b[0m\u001b[0m\n\u001b[1;32m    102\u001b[0m   \u001b[0mopt\u001b[0m \u001b[0;34m=\u001b[0m \u001b[0mopts\u001b[0m\u001b[0;34m(\u001b[0m\u001b[0;34m)\u001b[0m\u001b[0;34m.\u001b[0m\u001b[0mparse\u001b[0m\u001b[0;34m(\u001b[0m\u001b[0margs\u001b[0m\u001b[0;34m=\u001b[0m\u001b[0;34m[\u001b[0m\u001b[0;34m]\u001b[0m\u001b[0;34m)\u001b[0m\u001b[0;34m\u001b[0m\u001b[0;34m\u001b[0m\u001b[0m\n\u001b[0;32m--> 103\u001b[0;31m   \u001b[0mmain\u001b[0m\u001b[0;34m(\u001b[0m\u001b[0mopt\u001b[0m\u001b[0;34m)\u001b[0m\u001b[0;34m\u001b[0m\u001b[0;34m\u001b[0m\u001b[0m\n\u001b[0m",
      "\u001b[0;32m<ipython-input-1-e1e87c70158b>\u001b[0m in \u001b[0;36mmain\u001b[0;34m(opt)\u001b[0m\n\u001b[1;32m     69\u001b[0m   \u001b[0;32mfor\u001b[0m \u001b[0mepoch\u001b[0m \u001b[0;32min\u001b[0m \u001b[0mrange\u001b[0m\u001b[0;34m(\u001b[0m\u001b[0mstart_epoch\u001b[0m \u001b[0;34m+\u001b[0m \u001b[0;36m1\u001b[0m\u001b[0;34m,\u001b[0m \u001b[0mopt\u001b[0m\u001b[0;34m.\u001b[0m\u001b[0mnum_epochs\u001b[0m \u001b[0;34m+\u001b[0m \u001b[0;36m1\u001b[0m\u001b[0;34m)\u001b[0m\u001b[0;34m:\u001b[0m\u001b[0;34m\u001b[0m\u001b[0;34m\u001b[0m\u001b[0m\n\u001b[1;32m     70\u001b[0m     \u001b[0mmark\u001b[0m \u001b[0;34m=\u001b[0m \u001b[0mepoch\u001b[0m \u001b[0;32mif\u001b[0m \u001b[0mopt\u001b[0m\u001b[0;34m.\u001b[0m\u001b[0msave_all\u001b[0m \u001b[0;32melse\u001b[0m \u001b[0;34m'last'\u001b[0m\u001b[0;34m\u001b[0m\u001b[0;34m\u001b[0m\u001b[0m\n\u001b[0;32m---> 71\u001b[0;31m     \u001b[0mlog_dict_train\u001b[0m\u001b[0;34m,\u001b[0m \u001b[0m_\u001b[0m \u001b[0;34m=\u001b[0m \u001b[0mtrainer\u001b[0m\u001b[0;34m.\u001b[0m\u001b[0mtrain\u001b[0m\u001b[0;34m(\u001b[0m\u001b[0mepoch\u001b[0m\u001b[0;34m,\u001b[0m \u001b[0mtrain_loader\u001b[0m\u001b[0;34m,\u001b[0m \u001b[0mlogger\u001b[0m\u001b[0;34m)\u001b[0m\u001b[0;34m\u001b[0m\u001b[0;34m\u001b[0m\u001b[0m\n\u001b[0m\u001b[1;32m     72\u001b[0m     \u001b[0mlogger\u001b[0m\u001b[0;34m.\u001b[0m\u001b[0mwrite_epoch\u001b[0m\u001b[0;34m(\u001b[0m\u001b[0;34m'epoch: {} |'\u001b[0m\u001b[0;34m.\u001b[0m\u001b[0mformat\u001b[0m\u001b[0;34m(\u001b[0m\u001b[0mepoch\u001b[0m\u001b[0;34m)\u001b[0m\u001b[0;34m)\u001b[0m\u001b[0;34m\u001b[0m\u001b[0;34m\u001b[0m\u001b[0m\n\u001b[1;32m     73\u001b[0m     \u001b[0;32mfor\u001b[0m \u001b[0mk\u001b[0m\u001b[0;34m,\u001b[0m \u001b[0mv\u001b[0m \u001b[0;32min\u001b[0m \u001b[0mlog_dict_train\u001b[0m\u001b[0;34m.\u001b[0m\u001b[0mitems\u001b[0m\u001b[0;34m(\u001b[0m\u001b[0;34m)\u001b[0m\u001b[0;34m:\u001b[0m\u001b[0;34m\u001b[0m\u001b[0;34m\u001b[0m\u001b[0m\n",
      "\u001b[0;32m/data/mry/code/CenterNet/src/lib/trains/base_trainer.py\u001b[0m in \u001b[0;36mtrain\u001b[0;34m(self, epoch, data_loader, logger)\u001b[0m\n\u001b[1;32m    130\u001b[0m \u001b[0;34m\u001b[0m\u001b[0m\n\u001b[1;32m    131\u001b[0m   \u001b[0;32mdef\u001b[0m \u001b[0mtrain\u001b[0m\u001b[0;34m(\u001b[0m\u001b[0mself\u001b[0m\u001b[0;34m,\u001b[0m \u001b[0mepoch\u001b[0m\u001b[0;34m,\u001b[0m \u001b[0mdata_loader\u001b[0m\u001b[0;34m,\u001b[0m \u001b[0mlogger\u001b[0m\u001b[0;34m)\u001b[0m\u001b[0;34m:\u001b[0m\u001b[0;34m\u001b[0m\u001b[0;34m\u001b[0m\u001b[0m\n\u001b[0;32m--> 132\u001b[0;31m     \u001b[0;32mreturn\u001b[0m \u001b[0mself\u001b[0m\u001b[0;34m.\u001b[0m\u001b[0mrun_epoch\u001b[0m\u001b[0;34m(\u001b[0m\u001b[0;34m'train'\u001b[0m\u001b[0;34m,\u001b[0m \u001b[0mepoch\u001b[0m\u001b[0;34m,\u001b[0m \u001b[0mdata_loader\u001b[0m\u001b[0;34m,\u001b[0m \u001b[0mlogger\u001b[0m\u001b[0;34m=\u001b[0m\u001b[0mlogger\u001b[0m\u001b[0;34m)\u001b[0m\u001b[0;34m\u001b[0m\u001b[0;34m\u001b[0m\u001b[0m\n\u001b[0m",
      "\u001b[0;32m/data/mry/code/CenterNet/src/lib/trains/base_trainer.py\u001b[0m in \u001b[0;36mrun_epoch\u001b[0;34m(self, phase, epoch, data_loader, logger)\u001b[0m\n\u001b[1;32m     71\u001b[0m       \u001b[0;32mif\u001b[0m \u001b[0mphase\u001b[0m \u001b[0;34m==\u001b[0m \u001b[0;34m'train'\u001b[0m\u001b[0;34m:\u001b[0m\u001b[0;34m\u001b[0m\u001b[0;34m\u001b[0m\u001b[0m\n\u001b[1;32m     72\u001b[0m         \u001b[0mself\u001b[0m\u001b[0;34m.\u001b[0m\u001b[0moptimizer\u001b[0m\u001b[0;34m.\u001b[0m\u001b[0mzero_grad\u001b[0m\u001b[0;34m(\u001b[0m\u001b[0;34m)\u001b[0m\u001b[0;34m\u001b[0m\u001b[0;34m\u001b[0m\u001b[0m\n\u001b[0;32m---> 73\u001b[0;31m         \u001b[0mloss\u001b[0m\u001b[0;34m.\u001b[0m\u001b[0mbackward\u001b[0m\u001b[0;34m(\u001b[0m\u001b[0;34m)\u001b[0m\u001b[0;34m\u001b[0m\u001b[0;34m\u001b[0m\u001b[0m\n\u001b[0m\u001b[1;32m     74\u001b[0m         \u001b[0mself\u001b[0m\u001b[0;34m.\u001b[0m\u001b[0moptimizer\u001b[0m\u001b[0;34m.\u001b[0m\u001b[0mstep\u001b[0m\u001b[0;34m(\u001b[0m\u001b[0;34m)\u001b[0m\u001b[0;34m\u001b[0m\u001b[0;34m\u001b[0m\u001b[0m\n\u001b[1;32m     75\u001b[0m       \u001b[0mbatch_time\u001b[0m\u001b[0;34m.\u001b[0m\u001b[0mupdate\u001b[0m\u001b[0;34m(\u001b[0m\u001b[0mtime\u001b[0m\u001b[0;34m.\u001b[0m\u001b[0mtime\u001b[0m\u001b[0;34m(\u001b[0m\u001b[0;34m)\u001b[0m \u001b[0;34m-\u001b[0m \u001b[0mend\u001b[0m\u001b[0;34m)\u001b[0m\u001b[0;34m\u001b[0m\u001b[0;34m\u001b[0m\u001b[0m\n",
      "\u001b[0;32m/data/mry/code/CenterNet/src/lib/trains/base_trainer.py\u001b[0m in \u001b[0;36mrun_epoch\u001b[0;34m(self, phase, epoch, data_loader, logger)\u001b[0m\n\u001b[1;32m     71\u001b[0m       \u001b[0;32mif\u001b[0m \u001b[0mphase\u001b[0m \u001b[0;34m==\u001b[0m \u001b[0;34m'train'\u001b[0m\u001b[0;34m:\u001b[0m\u001b[0;34m\u001b[0m\u001b[0;34m\u001b[0m\u001b[0m\n\u001b[1;32m     72\u001b[0m         \u001b[0mself\u001b[0m\u001b[0;34m.\u001b[0m\u001b[0moptimizer\u001b[0m\u001b[0;34m.\u001b[0m\u001b[0mzero_grad\u001b[0m\u001b[0;34m(\u001b[0m\u001b[0;34m)\u001b[0m\u001b[0;34m\u001b[0m\u001b[0;34m\u001b[0m\u001b[0m\n\u001b[0;32m---> 73\u001b[0;31m         \u001b[0mloss\u001b[0m\u001b[0;34m.\u001b[0m\u001b[0mbackward\u001b[0m\u001b[0;34m(\u001b[0m\u001b[0;34m)\u001b[0m\u001b[0;34m\u001b[0m\u001b[0;34m\u001b[0m\u001b[0m\n\u001b[0m\u001b[1;32m     74\u001b[0m         \u001b[0mself\u001b[0m\u001b[0;34m.\u001b[0m\u001b[0moptimizer\u001b[0m\u001b[0;34m.\u001b[0m\u001b[0mstep\u001b[0m\u001b[0;34m(\u001b[0m\u001b[0;34m)\u001b[0m\u001b[0;34m\u001b[0m\u001b[0;34m\u001b[0m\u001b[0m\n\u001b[1;32m     75\u001b[0m       \u001b[0mbatch_time\u001b[0m\u001b[0;34m.\u001b[0m\u001b[0mupdate\u001b[0m\u001b[0;34m(\u001b[0m\u001b[0mtime\u001b[0m\u001b[0;34m.\u001b[0m\u001b[0mtime\u001b[0m\u001b[0;34m(\u001b[0m\u001b[0;34m)\u001b[0m \u001b[0;34m-\u001b[0m \u001b[0mend\u001b[0m\u001b[0;34m)\u001b[0m\u001b[0;34m\u001b[0m\u001b[0;34m\u001b[0m\u001b[0m\n",
      "\u001b[0;32m~/anaconda3/envs/centerpoint/lib/python3.6/bdb.py\u001b[0m in \u001b[0;36mtrace_dispatch\u001b[0;34m(self, frame, event, arg)\u001b[0m\n\u001b[1;32m     49\u001b[0m             \u001b[0;32mreturn\u001b[0m \u001b[0;31m# None\u001b[0m\u001b[0;34m\u001b[0m\u001b[0;34m\u001b[0m\u001b[0m\n\u001b[1;32m     50\u001b[0m         \u001b[0;32mif\u001b[0m \u001b[0mevent\u001b[0m \u001b[0;34m==\u001b[0m \u001b[0;34m'line'\u001b[0m\u001b[0;34m:\u001b[0m\u001b[0;34m\u001b[0m\u001b[0;34m\u001b[0m\u001b[0m\n\u001b[0;32m---> 51\u001b[0;31m             \u001b[0;32mreturn\u001b[0m \u001b[0mself\u001b[0m\u001b[0;34m.\u001b[0m\u001b[0mdispatch_line\u001b[0m\u001b[0;34m(\u001b[0m\u001b[0mframe\u001b[0m\u001b[0;34m)\u001b[0m\u001b[0;34m\u001b[0m\u001b[0;34m\u001b[0m\u001b[0m\n\u001b[0m\u001b[1;32m     52\u001b[0m         \u001b[0;32mif\u001b[0m \u001b[0mevent\u001b[0m \u001b[0;34m==\u001b[0m \u001b[0;34m'call'\u001b[0m\u001b[0;34m:\u001b[0m\u001b[0;34m\u001b[0m\u001b[0;34m\u001b[0m\u001b[0m\n\u001b[1;32m     53\u001b[0m             \u001b[0;32mreturn\u001b[0m \u001b[0mself\u001b[0m\u001b[0;34m.\u001b[0m\u001b[0mdispatch_call\u001b[0m\u001b[0;34m(\u001b[0m\u001b[0mframe\u001b[0m\u001b[0;34m,\u001b[0m \u001b[0marg\u001b[0m\u001b[0;34m)\u001b[0m\u001b[0;34m\u001b[0m\u001b[0;34m\u001b[0m\u001b[0m\n",
      "\u001b[0;32m~/anaconda3/envs/centerpoint/lib/python3.6/bdb.py\u001b[0m in \u001b[0;36mdispatch_line\u001b[0;34m(self, frame)\u001b[0m\n\u001b[1;32m     68\u001b[0m         \u001b[0;32mif\u001b[0m \u001b[0mself\u001b[0m\u001b[0;34m.\u001b[0m\u001b[0mstop_here\u001b[0m\u001b[0;34m(\u001b[0m\u001b[0mframe\u001b[0m\u001b[0;34m)\u001b[0m \u001b[0;32mor\u001b[0m \u001b[0mself\u001b[0m\u001b[0;34m.\u001b[0m\u001b[0mbreak_here\u001b[0m\u001b[0;34m(\u001b[0m\u001b[0mframe\u001b[0m\u001b[0;34m)\u001b[0m\u001b[0;34m:\u001b[0m\u001b[0;34m\u001b[0m\u001b[0;34m\u001b[0m\u001b[0m\n\u001b[1;32m     69\u001b[0m             \u001b[0mself\u001b[0m\u001b[0;34m.\u001b[0m\u001b[0muser_line\u001b[0m\u001b[0;34m(\u001b[0m\u001b[0mframe\u001b[0m\u001b[0;34m)\u001b[0m\u001b[0;34m\u001b[0m\u001b[0;34m\u001b[0m\u001b[0m\n\u001b[0;32m---> 70\u001b[0;31m             \u001b[0;32mif\u001b[0m \u001b[0mself\u001b[0m\u001b[0;34m.\u001b[0m\u001b[0mquitting\u001b[0m\u001b[0;34m:\u001b[0m \u001b[0;32mraise\u001b[0m \u001b[0mBdbQuit\u001b[0m\u001b[0;34m\u001b[0m\u001b[0;34m\u001b[0m\u001b[0m\n\u001b[0m\u001b[1;32m     71\u001b[0m         \u001b[0;32mreturn\u001b[0m \u001b[0mself\u001b[0m\u001b[0;34m.\u001b[0m\u001b[0mtrace_dispatch\u001b[0m\u001b[0;34m\u001b[0m\u001b[0;34m\u001b[0m\u001b[0m\n\u001b[1;32m     72\u001b[0m \u001b[0;34m\u001b[0m\u001b[0m\n",
      "\u001b[0;31mBdbQuit\u001b[0m: "
     ]
    }
   ],
   "source": [
    "from __future__ import absolute_import\n",
    "from __future__ import division\n",
    "from __future__ import print_function\n",
    "\n",
    "import _init_paths\n",
    "\n",
    "import os\n",
    "\n",
    "import torch\n",
    "import torch.utils.data\n",
    "from opts import opts\n",
    "from models.model import create_model, load_model, save_model\n",
    "from models.data_parallel import DataParallel\n",
    "from logger import Logger\n",
    "from datasets.dataset_factory import get_dataset\n",
    "from trains.train_factory import train_factory\n",
    "\n",
    "\n",
    "def main(opt):\n",
    "  torch.manual_seed(opt.seed)\n",
    "  torch.backends.cudnn.benchmark = not opt.not_cuda_benchmark and not opt.test\n",
    "  Dataset = get_dataset(opt.dataset, opt.task)\n",
    "  #Dataset = get_dataset(opt.dataset)\n",
    "  opt = opts().update_dataset_info_and_set_heads(opt, Dataset)\n",
    "  print(opt)\n",
    "\n",
    "  logger = Logger(opt)\n",
    "\n",
    "  os.environ['CUDA_VISIBLE_DEVICES'] = opt.gpus_str\n",
    "  opt.device = torch.device('cuda' if opt.gpus[0] >= 0 else 'cpu')\n",
    "  \n",
    "  print('Creating model...')\n",
    "  model = create_model(opt.arch, opt.heads, opt.head_conv)\n",
    "  optimizer = torch.optim.Adam(model.parameters(), opt.lr)\n",
    "  start_epoch = 0\n",
    "  if opt.load_model != '':\n",
    "    model, optimizer, start_epoch = load_model(\n",
    "      model, opt.load_model, optimizer, opt.resume, opt.lr, opt.lr_step)\n",
    "\n",
    "  Trainer = train_factory[opt.task]\n",
    "  trainer = Trainer(opt, model, optimizer)\n",
    "  trainer.set_device(opt.gpus, opt.chunk_sizes, opt.device)\n",
    "\n",
    "  print('Setting up data...')\n",
    "  val_loader = torch.utils.data.DataLoader(\n",
    "      Dataset(opt, 'val'),\n",
    "      batch_size=1,\n",
    "      shuffle=False,\n",
    "      num_workers=1,\n",
    "      pin_memory=True,\n",
    "      drop_last=True\n",
    "  )\n",
    "\n",
    "  if opt.test:\n",
    "    _, preds = trainer.val(0, val_loader)\n",
    "    val_loader.dataset.run_eval(preds, opt.save_dir)\n",
    "    return\n",
    "\n",
    "  train_loader = torch.utils.data.DataLoader(\n",
    "      Dataset(opt, 'train'),\n",
    "      batch_size=opt.batch_size,\n",
    "      shuffle=True,\n",
    "      num_workers=opt.num_workers,\n",
    "      pin_memory=True,\n",
    "      drop_last=True\n",
    "  )\n",
    "  print('Starting training...')\n",
    "  best = 1e10\n",
    "  for epoch in range(start_epoch + 1, opt.num_epochs + 1):\n",
    "    mark = epoch if opt.save_all else 'last'\n",
    "    log_dict_train, _ = trainer.train(epoch, train_loader, logger)\n",
    "    logger.write_epoch('epoch: {} |'.format(epoch))\n",
    "    for k, v in log_dict_train.items():\n",
    "      logger.scalar_summary('train_epoch_{}'.format(k), v, epoch)\n",
    "      logger.write_epoch('{} {:8f} | '.format(k, v))\n",
    "    if opt.val_intervals > 0 and epoch % opt.val_intervals == 0:\n",
    "      save_model(os.path.join(opt.save_dir, 'model_{}.pth'.format(mark)), \n",
    "                 epoch, model, optimizer)\n",
    "      with torch.no_grad():\n",
    "        log_dict_val, preds = trainer.val(epoch, val_loader)\n",
    "      for k, v in log_dict_val.items():\n",
    "        logger.scalar_summary('val_epoch_{}'.format(k), v, epoch)\n",
    "        logger.write_epoch('{} {:8f} | '.format(k, v))\n",
    "      if log_dict_val[opt.metric] < best:\n",
    "        best = log_dict_val[opt.metric]\n",
    "        save_model(os.path.join(opt.save_dir, 'model_best.pth'), \n",
    "                   epoch, model)\n",
    "    else:\n",
    "      save_model(os.path.join(opt.save_dir, 'model_last.pth'), \n",
    "                 epoch, model, optimizer)\n",
    "    logger.write_epoch('\\n')\n",
    "    if epoch in opt.lr_step:\n",
    "      save_model(os.path.join(opt.save_dir, 'model_{}.pth'.format(epoch)), \n",
    "                 epoch, model, optimizer)\n",
    "      lr = opt.lr * (0.1 ** (opt.lr_step.index(epoch) + 1))\n",
    "      print('Drop LR to', lr)\n",
    "      for param_group in optimizer.param_groups:\n",
    "          param_group['lr'] = lr\n",
    "  logger.close_epoch()\n",
    "\n",
    "if __name__ == '__main__':\n",
    "  opt = opts().parse(args=[])\n",
    "  main(opt)"
   ]
  },
  {
   "cell_type": "code",
   "execution_count": null,
   "metadata": {},
   "outputs": [],
   "source": []
  },
  {
   "cell_type": "code",
   "execution_count": null,
   "metadata": {},
   "outputs": [],
   "source": []
  }
 ],
 "metadata": {
  "kernelspec": {
   "display_name": "Python [conda env:centerpoint]",
   "language": "python",
   "name": "conda-env-centerpoint-py"
  },
  "language_info": {
   "codemirror_mode": {
    "name": "ipython",
    "version": 3
   },
   "file_extension": ".py",
   "mimetype": "text/x-python",
   "name": "python",
   "nbconvert_exporter": "python",
   "pygments_lexer": "ipython3",
   "version": "3.6.7"
  }
 },
 "nbformat": 4,
 "nbformat_minor": 4
}
